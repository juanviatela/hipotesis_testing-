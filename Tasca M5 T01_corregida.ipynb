{
 "cells": [
  {
   "cell_type": "markdown",
   "id": "1fb96212",
   "metadata": {},
   "source": [
    "# Tasca M5 T01"
   ]
  },
  {
   "cell_type": "code",
   "execution_count": 1,
   "id": "2d08b9b4",
   "metadata": {},
   "outputs": [],
   "source": [
    "#Importamos todas las librerías a utilizar\n",
    "import numpy as np \n",
    "import pandas as pd\n",
    "import matplotlib.pyplot as plt\n",
    "import seaborn as sns \n",
    "import scipy.stats as stats\n",
    "import pingouin as pg\n",
    "from scipy.stats import mannwhitneyu\n",
    "import warnings\n",
    "\n",
    "\n",
    "#configuramos pd para que nos muestre todas las columnas\n",
    "pd.set_option('display.max_columns', None)\n",
    "\n",
    "#suprimimos los warnings\n",
    "warnings.filterwarnings(\"ignore\")"
   ]
  },
  {
   "cell_type": "markdown",
   "id": "220f9dac",
   "metadata": {},
   "source": [
    "## Importación, descripción y preprocesamiento del data set"
   ]
  },
  {
   "cell_type": "code",
   "execution_count": 2,
   "id": "b8fbded9",
   "metadata": {},
   "outputs": [],
   "source": [
    "#Importamos el dataset desde el archivo 'Lligues europees UEFA.csv'\n",
    "\n",
    "df = pd.read_csv(\"Lligues europees UEFA.csv\", sep='\\;', encoding='latin-1', engine='python')"
   ]
  },
  {
   "cell_type": "code",
   "execution_count": 3,
   "id": "f8bb2ac6",
   "metadata": {},
   "outputs": [
    {
     "data": {
      "text/html": [
       "<div>\n",
       "<style scoped>\n",
       "    .dataframe tbody tr th:only-of-type {\n",
       "        vertical-align: middle;\n",
       "    }\n",
       "\n",
       "    .dataframe tbody tr th {\n",
       "        vertical-align: top;\n",
       "    }\n",
       "\n",
       "    .dataframe thead th {\n",
       "        text-align: right;\n",
       "    }\n",
       "</style>\n",
       "<table border=\"1\" class=\"dataframe\">\n",
       "  <thead>\n",
       "    <tr style=\"text-align: right;\">\n",
       "      <th></th>\n",
       "      <th>Rk</th>\n",
       "      <th>Squad</th>\n",
       "      <th>Country</th>\n",
       "      <th>LgRk</th>\n",
       "      <th>MP</th>\n",
       "      <th>W</th>\n",
       "      <th>D</th>\n",
       "      <th>L</th>\n",
       "      <th>GF</th>\n",
       "      <th>GA</th>\n",
       "      <th>GD</th>\n",
       "      <th>Pts</th>\n",
       "      <th>Pts/G</th>\n",
       "      <th>xG</th>\n",
       "      <th>xGA</th>\n",
       "      <th>xGD</th>\n",
       "      <th>xGD/90</th>\n",
       "      <th>Last 5</th>\n",
       "      <th>Attendance</th>\n",
       "      <th>Top Team Scorer</th>\n",
       "      <th>Goalkeeper</th>\n",
       "    </tr>\n",
       "  </thead>\n",
       "  <tbody>\n",
       "    <tr>\n",
       "      <th>0</th>\n",
       "      <td>1</td>\n",
       "      <td>Manchester City</td>\n",
       "      <td>ENG</td>\n",
       "      <td>1</td>\n",
       "      <td>37</td>\n",
       "      <td>28</td>\n",
       "      <td>6</td>\n",
       "      <td>3</td>\n",
       "      <td>96</td>\n",
       "      <td>24</td>\n",
       "      <td>72</td>\n",
       "      <td>90</td>\n",
       "      <td>2.43</td>\n",
       "      <td>86.1</td>\n",
       "      <td>26.8</td>\n",
       "      <td>59.3</td>\n",
       "      <td>1.60</td>\n",
       "      <td>W W W W D</td>\n",
       "      <td>52739</td>\n",
       "      <td>Kevin De Bruyne - 15</td>\n",
       "      <td>Ederson</td>\n",
       "    </tr>\n",
       "    <tr>\n",
       "      <th>1</th>\n",
       "      <td>2</td>\n",
       "      <td>Liverpool</td>\n",
       "      <td>ENG</td>\n",
       "      <td>2</td>\n",
       "      <td>36</td>\n",
       "      <td>26</td>\n",
       "      <td>8</td>\n",
       "      <td>2</td>\n",
       "      <td>89</td>\n",
       "      <td>24</td>\n",
       "      <td>65</td>\n",
       "      <td>86</td>\n",
       "      <td>2.39</td>\n",
       "      <td>84.6</td>\n",
       "      <td>33.1</td>\n",
       "      <td>51.4</td>\n",
       "      <td>1.43</td>\n",
       "      <td>W W W D W</td>\n",
       "      <td>53367</td>\n",
       "      <td>Mohamed Salah - 22</td>\n",
       "      <td>Alisson</td>\n",
       "    </tr>\n",
       "    <tr>\n",
       "      <th>2</th>\n",
       "      <td>3</td>\n",
       "      <td>Real Madrid</td>\n",
       "      <td>ESP</td>\n",
       "      <td>1</td>\n",
       "      <td>37</td>\n",
       "      <td>26</td>\n",
       "      <td>7</td>\n",
       "      <td>4</td>\n",
       "      <td>80</td>\n",
       "      <td>31</td>\n",
       "      <td>49</td>\n",
       "      <td>85</td>\n",
       "      <td>2.30</td>\n",
       "      <td>73.0</td>\n",
       "      <td>45.8</td>\n",
       "      <td>27.2</td>\n",
       "      <td>0.73</td>\n",
       "      <td>W W L W D</td>\n",
       "      <td>40624</td>\n",
       "      <td>Karim Benzema - 27</td>\n",
       "      <td>Thibaut Courtois</td>\n",
       "    </tr>\n",
       "    <tr>\n",
       "      <th>3</th>\n",
       "      <td>4</td>\n",
       "      <td>Bayern Munich</td>\n",
       "      <td>GER</td>\n",
       "      <td>1</td>\n",
       "      <td>34</td>\n",
       "      <td>24</td>\n",
       "      <td>5</td>\n",
       "      <td>5</td>\n",
       "      <td>97</td>\n",
       "      <td>37</td>\n",
       "      <td>60</td>\n",
       "      <td>77</td>\n",
       "      <td>2.26</td>\n",
       "      <td>88.1</td>\n",
       "      <td>37.1</td>\n",
       "      <td>51.0</td>\n",
       "      <td>1.50</td>\n",
       "      <td>W W L D D</td>\n",
       "      <td>33176</td>\n",
       "      <td>Robert Lewandowski - 35</td>\n",
       "      <td>Manuel Neuer</td>\n",
       "    </tr>\n",
       "    <tr>\n",
       "      <th>4</th>\n",
       "      <td>5</td>\n",
       "      <td>Paris S-G</td>\n",
       "      <td>FRA</td>\n",
       "      <td>1</td>\n",
       "      <td>37</td>\n",
       "      <td>25</td>\n",
       "      <td>8</td>\n",
       "      <td>4</td>\n",
       "      <td>85</td>\n",
       "      <td>36</td>\n",
       "      <td>49</td>\n",
       "      <td>83</td>\n",
       "      <td>2.24</td>\n",
       "      <td>71.6</td>\n",
       "      <td>38.1</td>\n",
       "      <td>33.4</td>\n",
       "      <td>0.90</td>\n",
       "      <td>W D D D W</td>\n",
       "      <td>41188</td>\n",
       "      <td>Kylian Mbappé - 25</td>\n",
       "      <td>Keylor Navas</td>\n",
       "    </tr>\n",
       "  </tbody>\n",
       "</table>\n",
       "</div>"
      ],
      "text/plain": [
       "   Rk            Squad Country  LgRk  MP   W  D  L  GF  GA  GD  Pts  Pts/G  \\\n",
       "0   1  Manchester City     ENG     1  37  28  6  3  96  24  72   90   2.43   \n",
       "1   2        Liverpool     ENG     2  36  26  8  2  89  24  65   86   2.39   \n",
       "2   3      Real Madrid     ESP     1  37  26  7  4  80  31  49   85   2.30   \n",
       "3   4    Bayern Munich     GER     1  34  24  5  5  97  37  60   77   2.26   \n",
       "4   5        Paris S-G     FRA     1  37  25  8  4  85  36  49   83   2.24   \n",
       "\n",
       "     xG   xGA   xGD  xGD/90     Last 5  Attendance          Top Team Scorer  \\\n",
       "0  86.1  26.8  59.3    1.60  W W W W D       52739     Kevin De Bruyne - 15   \n",
       "1  84.6  33.1  51.4    1.43  W W W D W       53367       Mohamed Salah - 22   \n",
       "2  73.0  45.8  27.2    0.73  W W L W D       40624       Karim Benzema - 27   \n",
       "3  88.1  37.1  51.0    1.50  W W L D D       33176  Robert Lewandowski - 35   \n",
       "4  71.6  38.1  33.4    0.90  W D D D W       41188       Kylian Mbappé - 25   \n",
       "\n",
       "         Goalkeeper  \n",
       "0           Ederson  \n",
       "1           Alisson  \n",
       "2  Thibaut Courtois  \n",
       "3      Manuel Neuer  \n",
       "4      Keylor Navas  "
      ]
     },
     "execution_count": 3,
     "metadata": {},
     "output_type": "execute_result"
    }
   ],
   "source": [
    "#Primera aproximación al dataset\n",
    "df.head()"
   ]
  },
  {
   "cell_type": "markdown",
   "id": "254d4ca0",
   "metadata": {},
   "source": [
    "A partir de una primera observación general del dataset podemos decir que: \n",
    "- reune varias features de la temporada de fútbol 2021-2022 de las principales ligas europeas \n",
    "- cada observación (fila) representa los datos de un equipo ordenados por ranking\n",
    "- La columna 'Country' agrupa los equipos por países\n",
    "- Tenemos dos columnas que presentan proporciones (Pts/G y xGD90)\n",
    "- Cinco columnas con variables categóricas: 'Squad', 'Country', 'Last5', 'Top Team Scorer' y 'Goalkeeper'"
   ]
  },
  {
   "cell_type": "code",
   "execution_count": 4,
   "id": "73012aee",
   "metadata": {},
   "outputs": [
    {
     "name": "stdout",
     "output_type": "stream",
     "text": [
      "<class 'pandas.core.frame.DataFrame'>\n",
      "RangeIndex: 98 entries, 0 to 97\n",
      "Data columns (total 21 columns):\n",
      " #   Column           Non-Null Count  Dtype  \n",
      "---  ------           --------------  -----  \n",
      " 0   Rk               98 non-null     int64  \n",
      " 1   Squad            98 non-null     object \n",
      " 2   Country          98 non-null     object \n",
      " 3   LgRk             98 non-null     int64  \n",
      " 4   MP               98 non-null     int64  \n",
      " 5   W                98 non-null     int64  \n",
      " 6   D                98 non-null     int64  \n",
      " 7   L                98 non-null     int64  \n",
      " 8   GF               98 non-null     int64  \n",
      " 9   GA               98 non-null     int64  \n",
      " 10  GD               98 non-null     int64  \n",
      " 11  Pts              98 non-null     int64  \n",
      " 12  Pts/G            98 non-null     float64\n",
      " 13  xG               98 non-null     float64\n",
      " 14  xGA              98 non-null     float64\n",
      " 15  xGD              98 non-null     float64\n",
      " 16  xGD/90           98 non-null     float64\n",
      " 17  Last 5           98 non-null     object \n",
      " 18  Attendance       98 non-null     int64  \n",
      " 19  Top Team Scorer  98 non-null     object \n",
      " 20  Goalkeeper       98 non-null     object \n",
      "dtypes: float64(5), int64(11), object(5)\n",
      "memory usage: 16.2+ KB\n"
     ]
    }
   ],
   "source": [
    "# info del dataset\n",
    "df.info()"
   ]
  },
  {
   "cell_type": "markdown",
   "id": "d55939c0",
   "metadata": {},
   "source": [
    "Tenemos un dataframe con 20 columnas y 98 observaciones. 5 columnas son object, 5 float y 10 int\n",
    "\n",
    "Según las columnas tenemos: \n",
    "- Rk: Ranking\n",
    "- Squad: Nombre del equipo\n",
    "- Country: País del equipo (ESP, FRA, ING, GER, ITA)\n",
    "- LgRk: Ranking de Liga \n",
    "- MP: Partidos jugados (Partidos Jugados):\n",
    "- W: Número de partidos ganados \n",
    "- D: Número de partidos empatados \n",
    "- L: Número de partidos perdidos \n",
    "- GF: Goles a Favor\n",
    "- GA: Goles en Contra\n",
    "- GD: Diferencia de Goles\n",
    "- Pts: Puntos\n",
    "- Pts/G: Puntos por Partido\n",
    "- xG: Número esperado de goles marcados\n",
    "- xGA: Número esperado de goles recibidos.\n",
    "- xGD: Diferencia entre goles esperados a favor y goles esperados en contra.\n",
    "- xGD/90: Diferencia de goles esperados ajustada por 90 minutos.\n",
    "- Last 5 : Información sobre los últimos 5 partidos.\n",
    "- Attendance: Número de asistentes a los partidos.\n",
    "- Top Team Scorer: Nombre del máximo goleador del equipo.\n",
    "- Goalkeeper: Nombre del portero del equipo."
   ]
  },
  {
   "cell_type": "code",
   "execution_count": 5,
   "id": "b10eb6af",
   "metadata": {},
   "outputs": [
    {
     "name": "stdout",
     "output_type": "stream",
     "text": [
      "dataset sin nulos\n"
     ]
    }
   ],
   "source": [
    "#comprobación de nulos\n",
    "nulos = df.isnull().sum()\n",
    "\n",
    "if nulos.all() == 0: \n",
    "    print(\"dataset sin nulos\")\n",
    "else: \n",
    "    print(\"dataset con nulos\")"
   ]
  },
  {
   "cell_type": "markdown",
   "id": "4ab430fe",
   "metadata": {},
   "source": [
    "# Hypothesis test \n",
    "\n",
    "Para cumplir con los ejercicios planteados realizaremos tres tipos de hypothesis test: \n",
    "\n",
    "- Prueba de t para evaluar si la media de asistencia de la temporada 2021 - 2022 es significativamente diferente del promedio histórico de asistencia. \n",
    "- Prueba t de dos muestras para comparar la media de goles a favor entre los equipos de la liga española y los equipos de la liga alemana.\n",
    "- Prueba ANOVA para comparar la media los goles en contra entre las 5 ligas y otra prueba ANOVA para comparar la media de asistencia de las 5 ligas. \n",
    "\n",
    "En el t-test de dos variables y en el ANOVA realizaremos, previo al test de hipótesis, una comprobación del cumplimiento de las condiciones (independencia, normalidad, homocedasticidad) de cada conjunto de datos. \n",
    "\n",
    "Para los todos los tests utilizaremos un α de 0.05\n",
    "\n",
    "Los tres test los realizaremos con el paquete scipy.stats, pero también utilizaremos el paquete pingouin. "
   ]
  },
  {
   "cell_type": "markdown",
   "id": "0c38d213",
   "metadata": {},
   "source": [
    "## Prueba de t-test de una sola variable \n",
    "\n",
    "En este test utilizaremos una t-test para comparar la media de asistencia de la temporada 2021-2022 con la media de asistencia de la última década. Asimilaremos este último valor como la media poblacional. Esta información la obtuvimos de: https://www.statista.com/statistics/261213/european-soccer-leagues-average-attendance/ \n",
    "\n",
    "Así, las hipótesis son: \n",
    "\n",
    "- H0: La media de asistencia de la temporada 2021-2022 y la media de asistencia de los últimos 10 años son iguales. \n",
    "- H1: La media de asistencia de la temporada 2012-2022 es menor que la media de asistencia de los últimos 10 años. "
   ]
  },
  {
   "cell_type": "code",
   "execution_count": 6,
   "id": "7b0fbf9b",
   "metadata": {},
   "outputs": [],
   "source": [
    "#creamos una lista que contiene las asistencias promedio de los últimos 10 años. \n",
    "\n",
    "attendance_pop = [30317.2, 30209, 30163.6, 29730.8, 31517.4, 31348.6, 31833.8, 3559.6, 24924.2, 33211.4]"
   ]
  },
  {
   "cell_type": "code",
   "execution_count": 7,
   "id": "c1f74bca",
   "metadata": {},
   "outputs": [
    {
     "name": "stdout",
     "output_type": "stream",
     "text": [
      "La media de asistencia de la población es: 27681.56\n",
      "La media de asistencia de la muestra es: 24239.857\n"
     ]
    }
   ],
   "source": [
    "#calculamos las medias a compartir\n",
    "\n",
    "#media poblacional\n",
    "attendance_pop_mean = np.round(np.mean(attendance_pop), 3)\n",
    "\n",
    "#media de la muestra\n",
    "sample_att_mean = np.round(df[\"Attendance\"].mean(), 3)\n",
    "\n",
    "print(\"La media de asistencia de la población es: {}\\nLa media de asistencia de la muestra es: {}\".format(attendance_pop_mean, sample_att_mean))"
   ]
  },
  {
   "cell_type": "markdown",
   "id": "84b95d1a",
   "metadata": {},
   "source": [
    "La media de la muestra (asistencia promedio en la temporada 2021-22) es menor que la media poblacional. Correremos el t-test para comprobar si esta diferencia es estadísticamente significativa.\n",
    "\n",
    "Asumimos que si el p-valor es menor que alpha rechazaremos la hipótesis nula"
   ]
  },
  {
   "cell_type": "code",
   "execution_count": 8,
   "id": "d3f55b60",
   "metadata": {},
   "outputs": [
    {
     "name": "stdout",
     "output_type": "stream",
     "text": [
      "pvalue = 0.012\n",
      "Con un 95% de significancia rechazamos la hipótesis nula\n"
     ]
    }
   ],
   "source": [
    "# test de 1 sample con stats\n",
    "\n",
    "# definimos el nivel de significancia\n",
    "alpha = 0.05\n",
    "\n",
    "#corremos la prueba\n",
    "results_ttest = stats.ttest_1samp(a = df[\"Attendance\"],              \n",
    "                 popmean = attendance_pop_mean)\n",
    "\n",
    "#dividimos el pvalue en 2 pues es una prueba de cola izquierda esto significa que estamos buscando un \"menor que\" \n",
    "#en la hipótesis alternativa\n",
    "pvalue = results_ttest.pvalue/2\n",
    "\n",
    "print(\"pvalue =\",np.round(pvalue, 3))\n",
    "\n",
    "if pvalue < alpha:\n",
    "    print (\"Con un 95% de significancia rechazamos la hipótesis nula\")\n",
    "else :\n",
    "    print (\"Con un 95% de significancia aceptamos la hipótesis nula\")\n"
   ]
  },
  {
   "cell_type": "markdown",
   "id": "2460908a",
   "metadata": {},
   "source": [
    "Es decir, que con un 95% de significancia estadística podemos afirmar que la media de asistencia de la temporada 2012-2022 fue menor que la media de asistencia de los últimos 10 años.\n",
    "\n",
    "Sin embargo ya que el pvalue es del 1.2%, si corrieramos un t-test con un 99% de significancia estadística tendríamos que aceptar la hipótesis nula. "
   ]
  },
  {
   "cell_type": "markdown",
   "id": "d83471ce",
   "metadata": {},
   "source": [
    "Hagamos una comprobación adicional utilizando el t-statistic y los grados de libertad para calcular el pvalue"
   ]
  },
  {
   "cell_type": "code",
   "execution_count": 9,
   "id": "c6cf3d18",
   "metadata": {},
   "outputs": [
    {
     "name": "stdout",
     "output_type": "stream",
     "text": [
      "T-test= -2.290623\n",
      "p-value= 0.012\n",
      "Grados de libertad= 97\n"
     ]
    }
   ],
   "source": [
    "print(\"T-test=\", np.round(results_ttest.statistic, 6))\n",
    "print(\"p-value=\", np.round(results_ttest.pvalue, 3) /2)\n",
    "print(\"Grados de libertad=\", results_ttest.df)"
   ]
  },
  {
   "cell_type": "code",
   "execution_count": 10,
   "id": "71ca319b",
   "metadata": {},
   "outputs": [
    {
     "data": {
      "text/plain": [
       "0.012"
      ]
     },
     "execution_count": 10,
     "metadata": {},
     "output_type": "execute_result"
    }
   ],
   "source": [
    "#Los grados de libertad son (n-1) siendo n el número de observaciones de la muestra\n",
    "np.round(stats.t.cdf(x= -2.2906, df= 97), 3)     "
   ]
  },
  {
   "cell_type": "markdown",
   "id": "57912bc7",
   "metadata": {},
   "source": [
    "Vamos a realizar el mismo test pero utilizando la librería pingouin. La ventaja de la librería pingouin es que en el argumento alternative podemos incluir qué tipo de test queremos hacer, two-tailed, greater o less dependiendo de la hipótesis alternativa. "
   ]
  },
  {
   "cell_type": "code",
   "execution_count": 11,
   "id": "ed8cea49",
   "metadata": {},
   "outputs": [
    {
     "name": "stdout",
     "output_type": "stream",
     "text": [
      "T-test de una muestra:\n",
      "               T  dof alternative     p-val             CI95%   cohen-d  \\\n",
      "T-test -2.290623   97        less  0.012075  [-inf, 26735.11]  0.231388   \n",
      "\n",
      "         BF10    power  \n",
      "T-test  2.689  0.73557  \n"
     ]
    }
   ],
   "source": [
    "t_test_result = pg.ttest(df[\"Attendance\"], attendance_pop_mean, alternative=\"less\")\n",
    "print(\"T-test de una muestra:\")\n",
    "print(t_test_result)"
   ]
  },
  {
   "cell_type": "markdown",
   "id": "9d28d2c5",
   "metadata": {},
   "source": [
    "Comprobamos que el p-val y el T-test de la librería pingouin son iguales a los resultados del stats. "
   ]
  },
  {
   "cell_type": "markdown",
   "id": "12efef55",
   "metadata": {},
   "source": [
    "## Prueba de t-test de dos variables\n",
    "\n",
    "Para este test utilizaremos dos variables: \n",
    "-los goles a favor marcados por los equipos de la liga española y, \n",
    "-los goles a favor marcados por los equipos de la liga alemana\n",
    "\n",
    "\n",
    "Primero, realizaremos una exploración gráfica de las medias de goles a favor (GF) marcados por los equipos de cada liga para determinar cuáles son las dos variables que nos puede interesar comparar.\n",
    "\n",
    "Segundo, evaluaremos los supuestos del conjunto de variables con el que vamos a trabajar.\n",
    "\n",
    "Finalmente, correremos el test. Como en el caso del test de una sola variable utilizaremos stats y pengouin. "
   ]
  },
  {
   "cell_type": "code",
   "execution_count": 12,
   "id": "1b07d49b",
   "metadata": {},
   "outputs": [
    {
     "data": {
      "image/png": "[encoded data removed]",
      "text/plain": [
       "<Figure size 500x500 with 1 Axes>"
      ]
     },
     "metadata": {},
     "output_type": "display_data"
    }
   ],
   "source": [
    "#barplot de \"GF\" por \"Country\"\n",
    "sns.catplot(x=\"Country\", \n",
    "       y=\"GF\",\n",
    "       data=df, \n",
    "       kind=\"bar\")\n",
    "\n",
    "plt.show()"
   ]
  },
  {
   "cell_type": "markdown",
   "id": "e89138b6",
   "metadata": {},
   "source": [
    "En el barplot podemos ver que casi todas las medias de goles a favor de los cinco países son bastante similares a excepción de las medias España y Alemania. Por tal razón plantearemos como hipótesis: \n",
    "\n",
    "- H0: La media de goles a favor de la liga alemana es igual a la media de goles a favor de la liga española. \n",
    "\n",
    "- H1: La media de goles a favor de la liga alemana es mayor que la media de goles a favor de la liga española. \n",
    "\n",
    "Como en el anterior test utilizamos un left-tailed aquí redactamos la H1 con un \"mayor que\" para utilizar un right-tailed. \n",
    "\n",
    "Utilizaremos el 95% de nivel de significancia. "
   ]
  },
  {
   "cell_type": "markdown",
   "id": "66c122ad",
   "metadata": {},
   "source": [
    "Pasaremos ahora a evaluar las condiciones de las variables: \n",
    "\n",
    "1. Independencia: asumimos que no existe ninguna relación entre los goles a favor marcados en la liga española y los goles a favor marcados en la liga alemana. Podemos afirmar que los eventos son independientes. "
   ]
  },
  {
   "cell_type": "code",
   "execution_count": 13,
   "id": "961e07c6",
   "metadata": {},
   "outputs": [
    {
     "data": {
      "text/html": [
       "<div>\n",
       "<style scoped>\n",
       "    .dataframe tbody tr th:only-of-type {\n",
       "        vertical-align: middle;\n",
       "    }\n",
       "\n",
       "    .dataframe tbody tr th {\n",
       "        vertical-align: top;\n",
       "    }\n",
       "\n",
       "    .dataframe thead th {\n",
       "        text-align: right;\n",
       "    }\n",
       "</style>\n",
       "<table border=\"1\" class=\"dataframe\">\n",
       "  <thead>\n",
       "    <tr style=\"text-align: right;\">\n",
       "      <th></th>\n",
       "      <th>W</th>\n",
       "      <th>pval</th>\n",
       "      <th>normal</th>\n",
       "    </tr>\n",
       "    <tr>\n",
       "      <th>Country</th>\n",
       "      <th></th>\n",
       "      <th></th>\n",
       "      <th></th>\n",
       "    </tr>\n",
       "  </thead>\n",
       "  <tbody>\n",
       "    <tr>\n",
       "      <th>ESP</th>\n",
       "      <td>0.888037</td>\n",
       "      <td>0.024753</td>\n",
       "      <td>False</td>\n",
       "    </tr>\n",
       "    <tr>\n",
       "      <th>GER</th>\n",
       "      <td>0.923764</td>\n",
       "      <td>0.150717</td>\n",
       "      <td>True</td>\n",
       "    </tr>\n",
       "  </tbody>\n",
       "</table>\n",
       "</div>"
      ],
      "text/plain": [
       "                W      pval  normal\n",
       "Country                            \n",
       "ESP      0.888037  0.024753   False\n",
       "GER      0.923764  0.150717    True"
      ]
     },
     "execution_count": 13,
     "metadata": {},
     "output_type": "execute_result"
    }
   ],
   "source": [
    "# normalidad - test de Shapiro-Wilk\n",
    "selected_leagues = df[df['Country'].isin(['ESP', 'GER'])]\n",
    "selected_columns = ['Squad', 'GF', 'Country']\n",
    "goals_dataset = selected_leagues[selected_columns]\n",
    "\n",
    "\n",
    "pg.normality(data=goals_dataset, dv='GF', group='Country')"
   ]
  },
  {
   "cell_type": "markdown",
   "id": "a11a7d49",
   "metadata": {},
   "source": [
    "2. normalidad: El test de Shapiro-Wilk nos dice que con el 95% de significacia hay evidencia estadística para afirmar que la muestra de goles a favor de la liga española no tiene una distribución normal, mientras que la muestra de goles a favor de la liga alemana sí tiene una distribución normal.\n",
    "\n",
    "Visualizaremos estas conclusiones con un gráfico cuantil-cuantil"
   ]
  },
  {
   "cell_type": "code",
   "execution_count": 14,
   "id": "3bd6aec4",
   "metadata": {
    "scrolled": false
   },
   "outputs": [
    {
     "data": {
      "image/png": "[encoded data removed]",
      "text/plain": [
       "<Figure size 1000x700 with 4 Axes>"
      ]
     },
     "metadata": {},
     "output_type": "display_data"
    }
   ],
   "source": [
    "fig, axs = plt.subplots(2, 2, figsize=(10, 7))\n",
    "\n",
    "GF_ESP = goals_dataset.loc[goals_dataset.Country == 'ESP', 'GF']\n",
    "# Valores de la media (mu) y desviación típica (sigma) de cada grupo\n",
    "mu, sigma = stats.norm.fit(GF_ESP)\n",
    "\n",
    "# Valores teóricos de la normal en el rango observado\n",
    "x_hat = np.linspace(min(GF_ESP), max(GF_ESP), num=100)\n",
    "y_hat = stats.norm.pdf(x_hat, mu, sigma)\n",
    "\n",
    "# Gráfico distribución\n",
    "axs[0, 0].plot(x_hat, y_hat, linewidth=2, label='normal')\n",
    "axs[0, 0].hist(x=GF_ESP, density=True, bins=20, color=\"#3182bd\", alpha=0.5)\n",
    "axs[0, 0].plot(GF_ESP, np.full_like(GF_ESP, -0.01), '|k', markeredgewidth=1)\n",
    "axs[0, 0].set_title('Distribución GF(ESP)')\n",
    "axs[0, 0].set_xlabel('GF')\n",
    "axs[0, 0].set_ylabel('Densidad de probabilidad')\n",
    "axs[0, 0].legend()\n",
    "\n",
    "# Gráfico distribución qq-plot\n",
    "pg.qqplot(GF_ESP, dist='norm', ax=axs[0, 1])\n",
    "\n",
    "GF_GER = goals_dataset.loc[goals_dataset.Country == 'GER', 'GF']\n",
    "mu, sigma = stats.norm.fit(GF_GER)\n",
    "x_hat = np.linspace(min(GF_GER), max(GF_GER), num=100)\n",
    "y_hat = stats.norm.pdf(x_hat, mu, sigma)\n",
    "axs[1, 0].plot(x_hat, y_hat, linewidth=2, label='normal')\n",
    "axs[1, 0].hist(x=GF_GER, density=True, bins=20, color=\"#3182bd\", alpha=0.5)\n",
    "axs[1, 0].plot(GF_GER, np.full_like(GF_GER, -0.01), '|k', markeredgewidth=1)\n",
    "axs[1, 0].set_title('Distribución GF(GER)')\n",
    "axs[1, 0].set_xlabel('GF')\n",
    "axs[1, 0].set_ylabel('Densidad de probabilidad')\n",
    "axs[1, 0].legend()\n",
    "\n",
    "pg.qqplot(GF_GER, dist='norm', ax=axs[1, 1])\n",
    "plt.tight_layout();"
   ]
  },
  {
   "cell_type": "markdown",
   "id": "a3bbaff3",
   "metadata": {},
   "source": [
    "En los gráficos podemos ver como los datos de la muestra alemana se ajustan más a la distribución normal, mientras que los de la muestra española no. Aunque, hay que decir que los dos conjuntos muestran una asimetría hacia la derecha."
   ]
  },
  {
   "cell_type": "code",
   "execution_count": 15,
   "id": "6464f04d",
   "metadata": {},
   "outputs": [
    {
     "data": {
      "text/html": [
       "<div>\n",
       "<style scoped>\n",
       "    .dataframe tbody tr th:only-of-type {\n",
       "        vertical-align: middle;\n",
       "    }\n",
       "\n",
       "    .dataframe tbody tr th {\n",
       "        vertical-align: top;\n",
       "    }\n",
       "\n",
       "    .dataframe thead th {\n",
       "        text-align: right;\n",
       "    }\n",
       "</style>\n",
       "<table border=\"1\" class=\"dataframe\">\n",
       "  <thead>\n",
       "    <tr style=\"text-align: right;\">\n",
       "      <th></th>\n",
       "      <th>W</th>\n",
       "      <th>pval</th>\n",
       "      <th>equal_var</th>\n",
       "    </tr>\n",
       "  </thead>\n",
       "  <tbody>\n",
       "    <tr>\n",
       "      <th>levene</th>\n",
       "      <td>1.335732</td>\n",
       "      <td>0.255401</td>\n",
       "      <td>True</td>\n",
       "    </tr>\n",
       "  </tbody>\n",
       "</table>\n",
       "</div>"
      ],
      "text/plain": [
       "               W      pval  equal_var\n",
       "levene  1.335732  0.255401       True"
      ]
     },
     "execution_count": 15,
     "metadata": {},
     "output_type": "execute_result"
    }
   ],
   "source": [
    "#igualdad de varianza (homocedasticidad)\n",
    "pg.homoscedasticity(data=goals_dataset, dv='GF', group='Country')"
   ]
  },
  {
   "cell_type": "code",
   "execution_count": 16,
   "id": "f1ea51c8",
   "metadata": {},
   "outputs": [
    {
     "data": {
      "image/png": "[encoded data removed]",
      "text/plain": [
       "<Figure size 800x400 with 1 Axes>"
      ]
     },
     "metadata": {},
     "output_type": "display_data"
    }
   ],
   "source": [
    "fig, ax = plt.subplots(1, 1, figsize=(8, 4))\n",
    "sns.boxplot(y=\"Country\", x=\"GF\", data=goals_dataset, ax=ax)\n",
    "sns.swarmplot(y=\"Country\", x=\"GF\", data=goals_dataset, color='black', alpha = 0.5, ax=ax);"
   ]
  },
  {
   "cell_type": "markdown",
   "id": "69654f7f",
   "metadata": {},
   "source": [
    "3. Igualdad de varianza (homocedasticidad)\n",
    "\n",
    "Tanto en el test de homocedasticidad como en el boxplot podemos observar que la varianzas de los dos conjuntos son similares. Es decir, que no existe evidencia estadística significativa para decir que las varianzas de ambas conjuntos sean distintas. \n",
    "\n",
    "Al detectar en nuestro análisis de supuestos que una de las muestras no cumple con la condición de normalidad, hemos decidido realizar el test Mann-Whitney U, prueba no paramétrica, que no hace suposiciones sobre la distribución subyacente."
   ]
  },
  {
   "cell_type": "code",
   "execution_count": 17,
   "id": "14d28175",
   "metadata": {},
   "outputs": [
    {
     "name": "stdout",
     "output_type": "stream",
     "text": [
      "Estadístico de prueba U: 143.0\n",
      "Valor p: 0.864\n",
      "Con un 95% de significancia aceptamos la hipótesis nula\n"
     ]
    }
   ],
   "source": [
    "#extraemos los dos subconjuntos\n",
    "ger_GF = df[df[\"Country\"] == \"GER\"][\"GF\"]\n",
    "esp_GF = df[df[\"Country\"] == \"ESP\"][\"GF\"]\n",
    "\n",
    "#definimos el nivel de significancia\n",
    "alpha = 0.05\n",
    "\n",
    "#corremos el test\n",
    "statistic, p_value_GF = mannwhitneyu(esp_GF, ger_GF, alternative='greater')\n",
    "\n",
    "print(f\"Estadístico de prueba U: {statistic}\")\n",
    "print(f\"Valor p: {np.round(p_value_GF, 3)}\")\n",
    "\n",
    "alpha = 0.05\n",
    "if p_value_GF < alpha:\n",
    "    print (\"Con un 95% de significancia rechazamos la hipótesis nula\")\n",
    "else :\n",
    "    print (\"Con un 95% de significancia aceptamos la hipótesis nula\")\n"
   ]
  },
  {
   "cell_type": "markdown",
   "id": "f42fd93f",
   "metadata": {},
   "source": [
    "Esto quiere decir que con un 95% de significancia estadística podemos afirmar que la media de goles a favor de la liga alemana es igual que la media de goles a favor de la liga española.\n",
    "\n",
    "A manera de curiosidad correremos un test paramétrico (t-test) para comparar los resultados"
   ]
  },
  {
   "cell_type": "code",
   "execution_count": 32,
   "id": "d5c47e41",
   "metadata": {},
   "outputs": [
    {
     "name": "stdout",
     "output_type": "stream",
     "text": [
      "T-test = 1.18382\n",
      "pvalue = 0.123\n",
      "Con un 95% de significancia aceptamos la hipótesis nula\n"
     ]
    }
   ],
   "source": [
    "## definimos el nivel de significancia\n",
    "alpha = 0.05\n",
    "\n",
    "#corremos la prueba\n",
    "results_ttest2 = stats.ttest_ind(ger_GF, esp_GF, equal_var=False, alternative=\"greater\")\n",
    "\n",
    "pvalue = results_ttest2.pvalue \n",
    "\n",
    "print(\"T-test =\", np.round(results_ttest2.statistic, 5))\n",
    "print(\"pvalue =\",np.round(pvalue, 3))\n",
    "\n",
    "if pvalue < alpha:\n",
    "    print (\"Con un 95% de significancia rechazamos la hipótesis nula\")\n",
    "else :\n",
    "    print (\"Con un 95% de significancia aceptamos la hipótesis nula\")\n"
   ]
  },
  {
   "cell_type": "markdown",
   "id": "9779d7bd",
   "metadata": {},
   "source": [
    "Esto quiere decir que con un 95% de significancia estadística podemos afirmar que la media de goles a favor de la liga alemana es igual que la media de goles a favor de la liga española.\n",
    "\n",
    "Ahora, corramos la prueba con la librería pingouin para verificar la información."
   ]
  },
  {
   "cell_type": "code",
   "execution_count": 33,
   "id": "18c26aaa",
   "metadata": {},
   "outputs": [
    {
     "name": "stdout",
     "output_type": "stream",
     "text": [
      "              T        dof alternative     p-val         CI95%   cohen-d  \\\n",
      "T-test  1.18382  30.048485     greater  0.122883  [-2.82, inf]  0.391826   \n",
      "\n",
      "         BF10    power  \n",
      "T-test  1.092  0.32222  \n"
     ]
    }
   ],
   "source": [
    "result2_test = pg.ttest(ger_GF, esp_GF, paired=False, alternative='greater')\n",
    "print(result2_test)"
   ]
  },
  {
   "cell_type": "markdown",
   "id": "6a0a0e3b",
   "metadata": {},
   "source": [
    "Comprobamos que el p-val y el T-test de la librería pingouin son iguales a los resultados del stats. "
   ]
  },
  {
   "cell_type": "markdown",
   "id": "be14df86",
   "metadata": {},
   "source": [
    "## Prueba ANOVA para comparar más de 3 grupos\n",
    "\n",
    "En este test compararemos 5 conjuntos: los goles en contra (GA) por cada una de las cinco ligas del data set. \n",
    "\n",
    "Primero Pasaremos ahora a evaluar las condiciones de las variables\n",
    "\n",
    "Segundo, evaluaremos los supuestos del conjunto de variables con las que vamos a trabajar. \n",
    "\n",
    "Luego, correremos el test. Como en el caso del test de una y dos variables utilizaremos stats y pengouin.\n",
    "\n",
    "Además, revisaremos qué grupos presentan diferencias significativas y añadiremos las correciones necesarias para evitar errores. "
   ]
  },
  {
   "cell_type": "code",
   "execution_count": 34,
   "id": "f82bc80e",
   "metadata": {},
   "outputs": [
    {
     "data": {
      "image/png": "[encoded data removed]",
      "text/plain": [
       "<Figure size 500x500 with 1 Axes>"
      ]
     },
     "metadata": {},
     "output_type": "display_data"
    }
   ],
   "source": [
    "#barplots de diferencia de goles por cada liga\n",
    "sns.catplot(x=\"Country\", \n",
    "       y=\"GA\",\n",
    "       data=df, \n",
    "       kind=\"bar\")\n",
    "\n",
    "plt.show()"
   ]
  },
  {
   "cell_type": "markdown",
   "id": "8bf9203d",
   "metadata": {},
   "source": [
    "El gráfico nos enseña las medias de todos los países son muy similares a excepción de España. Vamos comprobar con el test de ANOVA si esas diferencias son estadísticamente significativas. Así, nuestras hipótesis serán: \n",
    "\n",
    "- H0: No existen diferencias entre las medias de diferencia de goles en contra de las cinco ligas más grandes de Europa\n",
    "\n",
    "- H1: Existen diferencias entre las medias de diferencia de goles en contra de las cinco ligas más grandes de Europa.\n",
    "\n",
    "Utilizaremos el 95% de nivel de significancia"
   ]
  },
  {
   "cell_type": "markdown",
   "id": "1c3bbc35",
   "metadata": {},
   "source": [
    "Pasaremos ahora a evaluar las condiciones de las variables: \n",
    "\n",
    "1. Independencia: asumimos que no existe ninguna relación entre los goles a favor marcados en la liga española y los goles a favor marcados en la liga alemana. Podemos afirmar que los eventos son independientes. "
   ]
  },
  {
   "cell_type": "code",
   "execution_count": 35,
   "id": "d0b5dcad",
   "metadata": {},
   "outputs": [
    {
     "data": {
      "text/html": [
       "<div>\n",
       "<style scoped>\n",
       "    .dataframe tbody tr th:only-of-type {\n",
       "        vertical-align: middle;\n",
       "    }\n",
       "\n",
       "    .dataframe tbody tr th {\n",
       "        vertical-align: top;\n",
       "    }\n",
       "\n",
       "    .dataframe thead th {\n",
       "        text-align: right;\n",
       "    }\n",
       "</style>\n",
       "<table border=\"1\" class=\"dataframe\">\n",
       "  <thead>\n",
       "    <tr style=\"text-align: right;\">\n",
       "      <th></th>\n",
       "      <th>W</th>\n",
       "      <th>pval</th>\n",
       "      <th>normal</th>\n",
       "    </tr>\n",
       "    <tr>\n",
       "      <th>Country</th>\n",
       "      <th></th>\n",
       "      <th></th>\n",
       "      <th></th>\n",
       "    </tr>\n",
       "  </thead>\n",
       "  <tbody>\n",
       "    <tr>\n",
       "      <th>ENG</th>\n",
       "      <td>0.960419</td>\n",
       "      <td>0.552253</td>\n",
       "      <td>True</td>\n",
       "    </tr>\n",
       "    <tr>\n",
       "      <th>ESP</th>\n",
       "      <td>0.941665</td>\n",
       "      <td>0.257747</td>\n",
       "      <td>True</td>\n",
       "    </tr>\n",
       "    <tr>\n",
       "      <th>GER</th>\n",
       "      <td>0.929844</td>\n",
       "      <td>0.192969</td>\n",
       "      <td>True</td>\n",
       "    </tr>\n",
       "    <tr>\n",
       "      <th>FRA</th>\n",
       "      <td>0.914034</td>\n",
       "      <td>0.076111</td>\n",
       "      <td>True</td>\n",
       "    </tr>\n",
       "    <tr>\n",
       "      <th>ITA</th>\n",
       "      <td>0.925146</td>\n",
       "      <td>0.124496</td>\n",
       "      <td>True</td>\n",
       "    </tr>\n",
       "  </tbody>\n",
       "</table>\n",
       "</div>"
      ],
      "text/plain": [
       "                W      pval  normal\n",
       "Country                            \n",
       "ENG      0.960419  0.552253    True\n",
       "ESP      0.941665  0.257747    True\n",
       "GER      0.929844  0.192969    True\n",
       "FRA      0.914034  0.076111    True\n",
       "ITA      0.925146  0.124496    True"
      ]
     },
     "execution_count": 35,
     "metadata": {},
     "output_type": "execute_result"
    }
   ],
   "source": [
    "# normalidad - test de Shapiro-Wilk\n",
    "\n",
    "pg.normality(data=df, dv='GA', group='Country')"
   ]
  },
  {
   "cell_type": "markdown",
   "id": "69c22cba",
   "metadata": {},
   "source": [
    "2. normalidad: Con el test de Shapiro-Wilk podemos concluir que existe evidencia estadística significativa para afirmar que la muestra de goles en contra de las cinco ligas tienen una distribución normal. \n",
    "\n",
    "Visualizaremos estas conclusiones con un gráfico cuantil-cuantil"
   ]
  },
  {
   "cell_type": "code",
   "execution_count": 36,
   "id": "a9622892",
   "metadata": {},
   "outputs": [
    {
     "data": {
      "image/png": "[encoded data removed]",
      "text/plain": [
       "<Figure size 1000x700 with 6 Axes>"
      ]
     },
     "metadata": {},
     "output_type": "display_data"
    }
   ],
   "source": [
    "# Extraemos los grupos\n",
    "ENG_GA = df[df[\"Country\"] == \"ENG\"][\"GA\"]\n",
    "ESP_GA = df[df[\"Country\"] == \"ESP\"][\"GA\"]\n",
    "GER_GA = df[df[\"Country\"] == \"GER\"][\"GA\"]\n",
    "FRA_GA = df[df[\"Country\"] == \"FRA\"][\"GA\"]\n",
    "ITA_GA = df[df[\"Country\"] == \"ITA\"][\"GA\"]\n",
    "\n",
    "fig, axs = plt.subplots(nrows=2, ncols=3, figsize=(10, 7))\n",
    "\n",
    "pg.qqplot(ENG_GA, dist='norm', ax=axs[0, 0])\n",
    "axs[0, 0].set_title('Inglaterra (ENG)')\n",
    "pg.qqplot(ESP_GA, dist='norm', ax=axs[0, 1])\n",
    "axs[0, 1].set_title('España (ESP)')\n",
    "pg.qqplot(GER_GA, dist='norm', ax=axs[0, -1])\n",
    "axs[0, -1].set_title('Alemania (GER)')\n",
    "pg.qqplot(FRA_GA, dist='norm', ax=axs[1, 0])\n",
    "axs[1, 0].set_title('Francia (FRA)')\n",
    "pg.qqplot(ITA_GA, dist='norm', ax=axs[1, 1])\n",
    "axs[1, 1].set_title('Italia (ITA)')\n",
    "axs[1, 2].axis('off')\n",
    "\n",
    "\n",
    "plt.tight_layout()\n",
    "plt.show()"
   ]
  },
  {
   "cell_type": "markdown",
   "id": "a732e3db",
   "metadata": {},
   "source": [
    "Los gráficos nos permiten concluir que todos los grupos tienen una distribución normal."
   ]
  },
  {
   "cell_type": "code",
   "execution_count": 37,
   "id": "12ffea7b",
   "metadata": {},
   "outputs": [
    {
     "data": {
      "text/html": [
       "<div>\n",
       "<style scoped>\n",
       "    .dataframe tbody tr th:only-of-type {\n",
       "        vertical-align: middle;\n",
       "    }\n",
       "\n",
       "    .dataframe tbody tr th {\n",
       "        vertical-align: top;\n",
       "    }\n",
       "\n",
       "    .dataframe thead th {\n",
       "        text-align: right;\n",
       "    }\n",
       "</style>\n",
       "<table border=\"1\" class=\"dataframe\">\n",
       "  <thead>\n",
       "    <tr style=\"text-align: right;\">\n",
       "      <th></th>\n",
       "      <th>W</th>\n",
       "      <th>pval</th>\n",
       "      <th>equal_var</th>\n",
       "    </tr>\n",
       "  </thead>\n",
       "  <tbody>\n",
       "    <tr>\n",
       "      <th>levene</th>\n",
       "      <td>0.749412</td>\n",
       "      <td>0.560872</td>\n",
       "      <td>True</td>\n",
       "    </tr>\n",
       "  </tbody>\n",
       "</table>\n",
       "</div>"
      ],
      "text/plain": [
       "               W      pval  equal_var\n",
       "levene  0.749412  0.560872       True"
      ]
     },
     "execution_count": 37,
     "metadata": {},
     "output_type": "execute_result"
    }
   ],
   "source": [
    "#igualdad de varianza (homocedasticidad)\n",
    "pg.homoscedasticity(data=df, dv='GA', group='Country')"
   ]
  },
  {
   "cell_type": "code",
   "execution_count": 38,
   "id": "de00d872",
   "metadata": {},
   "outputs": [
    {
     "data": {
      "image/png": "[encoded data removed]",
      "text/plain": [
       "<Figure size 800x400 with 1 Axes>"
      ]
     },
     "metadata": {},
     "output_type": "display_data"
    }
   ],
   "source": [
    "fig, ax = plt.subplots(1, 1, figsize=(8, 4))\n",
    "sns.boxplot(y=\"Country\", x=\"GA\", data=df, ax=ax)\n",
    "sns.swarmplot(y=\"Country\", x=\"GA\", data=df, color='black', alpha = 0.5, ax=ax);"
   ]
  },
  {
   "cell_type": "markdown",
   "id": "c122c20b",
   "metadata": {},
   "source": [
    "3. Igualdad de varianza (homocedasticidad)\n",
    "\n",
    "Según la prueba de Levene y el boxplot podemos afirmar que las varianzas de los grupos son estadísticamente similares. Incluso, aunque en el boxplot veamos que el IQR de GER es más pequeño (es decir, que hay una menor dispersión de los datos o menor varianza) no tenemos evidencia estadística suficiente para afirmar que las varianzas son diferentes \n",
    "\n",
    "Después de haber aprobado todas condiciones podemos correr el test ANOVA. Añadiremos que incluso si el conjunto de datos no hubiera aprobado alguna condición ANOVA es un test tan robusto que podríamos correrlo sin problema. "
   ]
  },
  {
   "cell_type": "code",
   "execution_count": 39,
   "id": "c6116ba9",
   "metadata": {},
   "outputs": [
    {
     "name": "stdout",
     "output_type": "stream",
     "text": [
      "pvalue = 0.583\n",
      "Con un 95% de significancia aceptamos la hipótesis nula\n"
     ]
    }
   ],
   "source": [
    "#Corremos la ANOVA\n",
    "results_anova = stats.f_oneway(ENG_GA, ESP_GA, GER_GA, FRA_GA, ITA_GA)\n",
    "\n",
    "print(\"pvalue =\",np.round(results_anova.pvalue, 3))\n",
    "\n",
    "if results_anova.pvalue < alpha:\n",
    "    print (\"Con un 95% de significancia rechazamos la hipótesis nula\")\n",
    "else :\n",
    "    print (\"Con un 95% de significancia aceptamos la hipótesis nula\")"
   ]
  },
  {
   "cell_type": "markdown",
   "id": "e3be9d37",
   "metadata": {},
   "source": [
    "Esto quiere decir que con el 95 de significancia estadística podemos decir que no existen diferencias significativas entre las medias de los goles en contra de las cinco ligas europeas más importantes.\n",
    "\n",
    "Ahora comprobemos los resultados con pingouin"
   ]
  },
  {
   "cell_type": "code",
   "execution_count": 40,
   "id": "693b990a",
   "metadata": {},
   "outputs": [
    {
     "data": {
      "text/html": [
       "<div>\n",
       "<style scoped>\n",
       "    .dataframe tbody tr th:only-of-type {\n",
       "        vertical-align: middle;\n",
       "    }\n",
       "\n",
       "    .dataframe tbody tr th {\n",
       "        vertical-align: top;\n",
       "    }\n",
       "\n",
       "    .dataframe thead th {\n",
       "        text-align: right;\n",
       "    }\n",
       "</style>\n",
       "<table border=\"1\" class=\"dataframe\">\n",
       "  <thead>\n",
       "    <tr style=\"text-align: right;\">\n",
       "      <th></th>\n",
       "      <th>Source</th>\n",
       "      <th>ddof1</th>\n",
       "      <th>ddof2</th>\n",
       "      <th>F</th>\n",
       "      <th>p-unc</th>\n",
       "      <th>np2</th>\n",
       "    </tr>\n",
       "  </thead>\n",
       "  <tbody>\n",
       "    <tr>\n",
       "      <th>0</th>\n",
       "      <td>Country</td>\n",
       "      <td>4</td>\n",
       "      <td>93</td>\n",
       "      <td>0.715722</td>\n",
       "      <td>0.583269</td>\n",
       "      <td>0.029864</td>\n",
       "    </tr>\n",
       "  </tbody>\n",
       "</table>\n",
       "</div>"
      ],
      "text/plain": [
       "    Source  ddof1  ddof2         F     p-unc       np2\n",
       "0  Country      4     93  0.715722  0.583269  0.029864"
      ]
     },
     "execution_count": 40,
     "metadata": {},
     "output_type": "execute_result"
    }
   ],
   "source": [
    "#corremos la ANOVA en pingouin\n",
    "pg.anova(data=df,\n",
    "      dv=\"GA\", \n",
    "      between=\"Country\")"
   ]
  },
  {
   "cell_type": "markdown",
   "id": "6eef3c2e",
   "metadata": {},
   "source": [
    "Aunque no pudimos rechazar la hipótesis nula, es decir, que no hay diferencias entre los grupos, vamos a investigar las diferencias específicas entre grupos. Para esto utilizaremos la función pairwise_tests de pingouin. En este caso al no existir diferencias no agregaremos ninguna correción. En el caso de haber diferencias podríamos añadir una test de Bonferroni o Tukey en el keyword \"padjust\")"
   ]
  },
  {
   "cell_type": "code",
   "execution_count": 41,
   "id": "82a3eceb",
   "metadata": {},
   "outputs": [
    {
     "data": {
      "text/html": [
       "<div>\n",
       "<style scoped>\n",
       "    .dataframe tbody tr th:only-of-type {\n",
       "        vertical-align: middle;\n",
       "    }\n",
       "\n",
       "    .dataframe tbody tr th {\n",
       "        vertical-align: top;\n",
       "    }\n",
       "\n",
       "    .dataframe thead th {\n",
       "        text-align: right;\n",
       "    }\n",
       "</style>\n",
       "<table border=\"1\" class=\"dataframe\">\n",
       "  <thead>\n",
       "    <tr style=\"text-align: right;\">\n",
       "      <th></th>\n",
       "      <th>Contrast</th>\n",
       "      <th>A</th>\n",
       "      <th>B</th>\n",
       "      <th>Paired</th>\n",
       "      <th>Parametric</th>\n",
       "      <th>T</th>\n",
       "      <th>dof</th>\n",
       "      <th>alternative</th>\n",
       "      <th>p-unc</th>\n",
       "      <th>BF10</th>\n",
       "      <th>hedges</th>\n",
       "    </tr>\n",
       "  </thead>\n",
       "  <tbody>\n",
       "    <tr>\n",
       "      <th>0</th>\n",
       "      <td>Country</td>\n",
       "      <td>ENG</td>\n",
       "      <td>ESP</td>\n",
       "      <td>False</td>\n",
       "      <td>True</td>\n",
       "      <td>0.989300</td>\n",
       "      <td>38.000000</td>\n",
       "      <td>two-sided</td>\n",
       "      <td>0.328774</td>\n",
       "      <td>0.455</td>\n",
       "      <td>0.306629</td>\n",
       "    </tr>\n",
       "    <tr>\n",
       "      <th>1</th>\n",
       "      <td>Country</td>\n",
       "      <td>ENG</td>\n",
       "      <td>FRA</td>\n",
       "      <td>False</td>\n",
       "      <td>True</td>\n",
       "      <td>-0.125218</td>\n",
       "      <td>38.000000</td>\n",
       "      <td>two-sided</td>\n",
       "      <td>0.901011</td>\n",
       "      <td>0.311</td>\n",
       "      <td>-0.038811</td>\n",
       "    </tr>\n",
       "    <tr>\n",
       "      <th>2</th>\n",
       "      <td>Country</td>\n",
       "      <td>ENG</td>\n",
       "      <td>GER</td>\n",
       "      <td>False</td>\n",
       "      <td>True</td>\n",
       "      <td>-0.478941</td>\n",
       "      <td>34.178186</td>\n",
       "      <td>two-sided</td>\n",
       "      <td>0.635031</td>\n",
       "      <td>0.345</td>\n",
       "      <td>-0.149616</td>\n",
       "    </tr>\n",
       "    <tr>\n",
       "      <th>3</th>\n",
       "      <td>Country</td>\n",
       "      <td>ENG</td>\n",
       "      <td>ITA</td>\n",
       "      <td>False</td>\n",
       "      <td>True</td>\n",
       "      <td>-0.379518</td>\n",
       "      <td>38.000000</td>\n",
       "      <td>two-sided</td>\n",
       "      <td>0.706416</td>\n",
       "      <td>0.327</td>\n",
       "      <td>-0.117630</td>\n",
       "    </tr>\n",
       "    <tr>\n",
       "      <th>4</th>\n",
       "      <td>Country</td>\n",
       "      <td>ESP</td>\n",
       "      <td>FRA</td>\n",
       "      <td>False</td>\n",
       "      <td>True</td>\n",
       "      <td>-1.177995</td>\n",
       "      <td>38.000000</td>\n",
       "      <td>two-sided</td>\n",
       "      <td>0.246123</td>\n",
       "      <td>0.534</td>\n",
       "      <td>-0.365114</td>\n",
       "    </tr>\n",
       "    <tr>\n",
       "      <th>5</th>\n",
       "      <td>Country</td>\n",
       "      <td>ESP</td>\n",
       "      <td>GER</td>\n",
       "      <td>False</td>\n",
       "      <td>True</td>\n",
       "      <td>-1.720012</td>\n",
       "      <td>35.989997</td>\n",
       "      <td>two-sided</td>\n",
       "      <td>0.094020</td>\n",
       "      <td>0.99</td>\n",
       "      <td>-0.544400</td>\n",
       "    </tr>\n",
       "    <tr>\n",
       "      <th>6</th>\n",
       "      <td>Country</td>\n",
       "      <td>ESP</td>\n",
       "      <td>ITA</td>\n",
       "      <td>False</td>\n",
       "      <td>True</td>\n",
       "      <td>-1.479949</td>\n",
       "      <td>38.000000</td>\n",
       "      <td>two-sided</td>\n",
       "      <td>0.147131</td>\n",
       "      <td>0.73</td>\n",
       "      <td>-0.458703</td>\n",
       "    </tr>\n",
       "    <tr>\n",
       "      <th>7</th>\n",
       "      <td>Country</td>\n",
       "      <td>FRA</td>\n",
       "      <td>GER</td>\n",
       "      <td>False</td>\n",
       "      <td>True</td>\n",
       "      <td>-0.358978</td>\n",
       "      <td>35.116851</td>\n",
       "      <td>two-sided</td>\n",
       "      <td>0.721761</td>\n",
       "      <td>0.332</td>\n",
       "      <td>-0.112567</td>\n",
       "    </tr>\n",
       "    <tr>\n",
       "      <th>8</th>\n",
       "      <td>Country</td>\n",
       "      <td>FRA</td>\n",
       "      <td>ITA</td>\n",
       "      <td>False</td>\n",
       "      <td>True</td>\n",
       "      <td>-0.263565</td>\n",
       "      <td>38.000000</td>\n",
       "      <td>two-sided</td>\n",
       "      <td>0.793539</td>\n",
       "      <td>0.318</td>\n",
       "      <td>-0.081691</td>\n",
       "    </tr>\n",
       "    <tr>\n",
       "      <th>9</th>\n",
       "      <td>Country</td>\n",
       "      <td>GER</td>\n",
       "      <td>ITA</td>\n",
       "      <td>False</td>\n",
       "      <td>True</td>\n",
       "      <td>0.072772</td>\n",
       "      <td>35.336482</td>\n",
       "      <td>two-sided</td>\n",
       "      <td>0.942398</td>\n",
       "      <td>0.316</td>\n",
       "      <td>0.022845</td>\n",
       "    </tr>\n",
       "  </tbody>\n",
       "</table>\n",
       "</div>"
      ],
      "text/plain": [
       "  Contrast    A    B  Paired  Parametric         T        dof alternative  \\\n",
       "0  Country  ENG  ESP   False        True  0.989300  38.000000   two-sided   \n",
       "1  Country  ENG  FRA   False        True -0.125218  38.000000   two-sided   \n",
       "2  Country  ENG  GER   False        True -0.478941  34.178186   two-sided   \n",
       "3  Country  ENG  ITA   False        True -0.379518  38.000000   two-sided   \n",
       "4  Country  ESP  FRA   False        True -1.177995  38.000000   two-sided   \n",
       "5  Country  ESP  GER   False        True -1.720012  35.989997   two-sided   \n",
       "6  Country  ESP  ITA   False        True -1.479949  38.000000   two-sided   \n",
       "7  Country  FRA  GER   False        True -0.358978  35.116851   two-sided   \n",
       "8  Country  FRA  ITA   False        True -0.263565  38.000000   two-sided   \n",
       "9  Country  GER  ITA   False        True  0.072772  35.336482   two-sided   \n",
       "\n",
       "      p-unc   BF10    hedges  \n",
       "0  0.328774  0.455  0.306629  \n",
       "1  0.901011  0.311 -0.038811  \n",
       "2  0.635031  0.345 -0.149616  \n",
       "3  0.706416  0.327 -0.117630  \n",
       "4  0.246123  0.534 -0.365114  \n",
       "5  0.094020   0.99 -0.544400  \n",
       "6  0.147131   0.73 -0.458703  \n",
       "7  0.721761  0.332 -0.112567  \n",
       "8  0.793539  0.318 -0.081691  \n",
       "9  0.942398  0.316  0.022845  "
      ]
     },
     "execution_count": 41,
     "metadata": {},
     "output_type": "execute_result"
    }
   ],
   "source": [
    "#Comprobamos las diferencias entre los grupos con un pairwise_test\n",
    "pg.pairwise_tests(data=df, \n",
    "     dv=\"GA\", \n",
    "     between=\"Country\",\n",
    "     padjust=\"none\")"
   ]
  },
  {
   "cell_type": "markdown",
   "id": "fea6fa0a",
   "metadata": {},
   "source": [
    "En el pairwise podemos observar que en ninguno de los 10 grupos existe suficiente significancia estadística para rechazar la hipótesis nula. Es decir, que no existe ninguna diferencia significativa entre la media de los goles en contra en las cinco ligas europeas más importantes"
   ]
  },
  {
   "cell_type": "markdown",
   "id": "38656979",
   "metadata": {},
   "source": [
    "Para poder realizar los test post-hoc realizaremos una comparación entre los cinco grupos de una variable que este algo más dispersa. Con un barplot graficaremos las medias de la variable \"Attendance\" a ver si puede servir como un mejor ejemplo para correr la ANOVA. Utilizaremos el mismo nivel de significancia de 0.05"
   ]
  },
  {
   "cell_type": "code",
   "execution_count": 42,
   "id": "68685ae1",
   "metadata": {},
   "outputs": [
    {
     "data": {
      "image/png": "[encoded data removed]",
      "text/plain": [
       "<Figure size 500x500 with 1 Axes>"
      ]
     },
     "metadata": {},
     "output_type": "display_data"
    }
   ],
   "source": [
    "#barplots de diferencia de asistencia\n",
    "sns.catplot(x=\"Country\", \n",
    "       y=\"Attendance\",\n",
    "       data=df, \n",
    "       kind=\"bar\")\n",
    "\n",
    "plt.show()"
   ]
  },
  {
   "cell_type": "markdown",
   "id": "89335d06",
   "metadata": {},
   "source": [
    "En este caso sí que parece existir una diferencia significativa entre la asistencia a los estadios en la liga inglesa con el resto\n",
    "\n",
    "Formularemos entonces nuestras hipótesis: \n",
    "\n",
    "- H0: No hay diferencias entre las medias de asistencia de las cinco principales ligas europeas\n",
    "- H1: Existen diferencias entre las medias de asistencia de las cinco principales ligas europeas"
   ]
  },
  {
   "cell_type": "code",
   "execution_count": 43,
   "id": "5437cb76",
   "metadata": {},
   "outputs": [
    {
     "name": "stdout",
     "output_type": "stream",
     "text": [
      "pvalue = 0.0\n",
      "Con un 95% de significancia rechazamos la hipótesis nula\n"
     ]
    }
   ],
   "source": [
    "# Definimos alpha\n",
    "alpha = 0.05\n",
    "\n",
    "# Extraemos los grupos\n",
    "ENG_ATT = df[df[\"Country\"] == \"ENG\"][\"Attendance\"]\n",
    "ESP_ATT = df[df[\"Country\"] == \"ESP\"][\"Attendance\"]\n",
    "GER_ATT = df[df[\"Country\"] == \"GER\"][\"Attendance\"]\n",
    "FRA_ATT = df[df[\"Country\"] == \"FRA\"][\"Attendance\"]\n",
    "ITA_ATT = df[df[\"Country\"] == \"ITA\"][\"Attendance\"]\n",
    "\n",
    "#Corremos la ANOVA\n",
    "results_anova_att = stats.f_oneway(ENG_ATT, ESP_ATT, GER_ATT, FRA_ATT, ITA_ATT)\n",
    "\n",
    "print(\"pvalue =\", np.round(results_anova_att.pvalue, 3))\n",
    "\n",
    "if results_anova_att.pvalue < alpha:\n",
    "    print (\"Con un 95% de significancia rechazamos la hipótesis nula\")\n",
    "else :\n",
    "    print (\"Con un 95% de significancia aceptamos la hipótesis nula\")"
   ]
  },
  {
   "cell_type": "markdown",
   "id": "a2a312a1",
   "metadata": {},
   "source": [
    "En este caso con un 95% de significancia estadistica podemos rechazar la hipótesis nula y asegurar que hay diferencias entre las medias de asistencia de las mejores ligas europeas. \n",
    "\n",
    "Corramos la ANOVA en pingouin para comprobar los datos"
   ]
  },
  {
   "cell_type": "code",
   "execution_count": 44,
   "id": "58ed82ba",
   "metadata": {},
   "outputs": [
    {
     "data": {
      "text/html": [
       "<div>\n",
       "<style scoped>\n",
       "    .dataframe tbody tr th:only-of-type {\n",
       "        vertical-align: middle;\n",
       "    }\n",
       "\n",
       "    .dataframe tbody tr th {\n",
       "        vertical-align: top;\n",
       "    }\n",
       "\n",
       "    .dataframe thead th {\n",
       "        text-align: right;\n",
       "    }\n",
       "</style>\n",
       "<table border=\"1\" class=\"dataframe\">\n",
       "  <thead>\n",
       "    <tr style=\"text-align: right;\">\n",
       "      <th></th>\n",
       "      <th>Source</th>\n",
       "      <th>ddof1</th>\n",
       "      <th>ddof2</th>\n",
       "      <th>F</th>\n",
       "      <th>p-unc</th>\n",
       "      <th>np2</th>\n",
       "    </tr>\n",
       "  </thead>\n",
       "  <tbody>\n",
       "    <tr>\n",
       "      <th>0</th>\n",
       "      <td>Country</td>\n",
       "      <td>4</td>\n",
       "      <td>93</td>\n",
       "      <td>9.531074</td>\n",
       "      <td>0.000002</td>\n",
       "      <td>0.290749</td>\n",
       "    </tr>\n",
       "  </tbody>\n",
       "</table>\n",
       "</div>"
      ],
      "text/plain": [
       "    Source  ddof1  ddof2         F     p-unc       np2\n",
       "0  Country      4     93  9.531074  0.000002  0.290749"
      ]
     },
     "execution_count": 44,
     "metadata": {},
     "output_type": "execute_result"
    }
   ],
   "source": [
    "#corremos la ANOVA en pingouin\n",
    "pg.anova(data=df,\n",
    "      dv=\"Attendance\", \n",
    "      between=\"Country\")"
   ]
  },
  {
   "cell_type": "markdown",
   "id": "c98fee92",
   "metadata": {},
   "source": [
    "Como en este caso sí que existen diferencias estadísticas vamos a utilizar la función pairwise_tests de pingouin para determinar las diferencias por grupos "
   ]
  },
  {
   "cell_type": "code",
   "execution_count": 45,
   "id": "18ed10b5",
   "metadata": {},
   "outputs": [
    {
     "data": {
      "text/html": [
       "<div>\n",
       "<style scoped>\n",
       "    .dataframe tbody tr th:only-of-type {\n",
       "        vertical-align: middle;\n",
       "    }\n",
       "\n",
       "    .dataframe tbody tr th {\n",
       "        vertical-align: top;\n",
       "    }\n",
       "\n",
       "    .dataframe thead th {\n",
       "        text-align: right;\n",
       "    }\n",
       "</style>\n",
       "<table border=\"1\" class=\"dataframe\">\n",
       "  <thead>\n",
       "    <tr style=\"text-align: right;\">\n",
       "      <th></th>\n",
       "      <th>Contrast</th>\n",
       "      <th>A</th>\n",
       "      <th>B</th>\n",
       "      <th>Paired</th>\n",
       "      <th>Parametric</th>\n",
       "      <th>T</th>\n",
       "      <th>dof</th>\n",
       "      <th>alternative</th>\n",
       "      <th>p-unc</th>\n",
       "      <th>BF10</th>\n",
       "      <th>hedges</th>\n",
       "    </tr>\n",
       "  </thead>\n",
       "  <tbody>\n",
       "    <tr>\n",
       "      <th>0</th>\n",
       "      <td>Country</td>\n",
       "      <td>ENG</td>\n",
       "      <td>ESP</td>\n",
       "      <td>False</td>\n",
       "      <td>True</td>\n",
       "      <td>3.535472</td>\n",
       "      <td>38.000000</td>\n",
       "      <td>two-sided</td>\n",
       "      <td>0.001090</td>\n",
       "      <td>29.042</td>\n",
       "      <td>1.095802</td>\n",
       "    </tr>\n",
       "    <tr>\n",
       "      <th>1</th>\n",
       "      <td>Country</td>\n",
       "      <td>ENG</td>\n",
       "      <td>FRA</td>\n",
       "      <td>False</td>\n",
       "      <td>True</td>\n",
       "      <td>4.342692</td>\n",
       "      <td>38.000000</td>\n",
       "      <td>two-sided</td>\n",
       "      <td>0.000101</td>\n",
       "      <td>214.736</td>\n",
       "      <td>1.345996</td>\n",
       "    </tr>\n",
       "    <tr>\n",
       "      <th>2</th>\n",
       "      <td>Country</td>\n",
       "      <td>ENG</td>\n",
       "      <td>GER</td>\n",
       "      <td>False</td>\n",
       "      <td>True</td>\n",
       "      <td>4.548311</td>\n",
       "      <td>30.491360</td>\n",
       "      <td>two-sided</td>\n",
       "      <td>0.000081</td>\n",
       "      <td>337.737</td>\n",
       "      <td>1.406648</td>\n",
       "    </tr>\n",
       "    <tr>\n",
       "      <th>3</th>\n",
       "      <td>Country</td>\n",
       "      <td>ENG</td>\n",
       "      <td>ITA</td>\n",
       "      <td>False</td>\n",
       "      <td>True</td>\n",
       "      <td>5.095117</td>\n",
       "      <td>38.000000</td>\n",
       "      <td>two-sided</td>\n",
       "      <td>0.000010</td>\n",
       "      <td>1627.928</td>\n",
       "      <td>1.579207</td>\n",
       "    </tr>\n",
       "    <tr>\n",
       "      <th>4</th>\n",
       "      <td>Country</td>\n",
       "      <td>ESP</td>\n",
       "      <td>FRA</td>\n",
       "      <td>False</td>\n",
       "      <td>True</td>\n",
       "      <td>0.633980</td>\n",
       "      <td>38.000000</td>\n",
       "      <td>two-sided</td>\n",
       "      <td>0.529892</td>\n",
       "      <td>0.362</td>\n",
       "      <td>0.196499</td>\n",
       "    </tr>\n",
       "    <tr>\n",
       "      <th>5</th>\n",
       "      <td>Country</td>\n",
       "      <td>ESP</td>\n",
       "      <td>GER</td>\n",
       "      <td>False</td>\n",
       "      <td>True</td>\n",
       "      <td>0.509395</td>\n",
       "      <td>32.392753</td>\n",
       "      <td>two-sided</td>\n",
       "      <td>0.613928</td>\n",
       "      <td>0.349</td>\n",
       "      <td>0.158282</td>\n",
       "    </tr>\n",
       "    <tr>\n",
       "      <th>6</th>\n",
       "      <td>Country</td>\n",
       "      <td>ESP</td>\n",
       "      <td>ITA</td>\n",
       "      <td>False</td>\n",
       "      <td>True</td>\n",
       "      <td>1.425441</td>\n",
       "      <td>38.000000</td>\n",
       "      <td>two-sided</td>\n",
       "      <td>0.162193</td>\n",
       "      <td>0.686</td>\n",
       "      <td>0.441809</td>\n",
       "    </tr>\n",
       "    <tr>\n",
       "      <th>7</th>\n",
       "      <td>Country</td>\n",
       "      <td>FRA</td>\n",
       "      <td>GER</td>\n",
       "      <td>False</td>\n",
       "      <td>True</td>\n",
       "      <td>-0.208364</td>\n",
       "      <td>34.550020</td>\n",
       "      <td>two-sided</td>\n",
       "      <td>0.836168</td>\n",
       "      <td>0.321</td>\n",
       "      <td>-0.065179</td>\n",
       "    </tr>\n",
       "    <tr>\n",
       "      <th>8</th>\n",
       "      <td>Country</td>\n",
       "      <td>FRA</td>\n",
       "      <td>ITA</td>\n",
       "      <td>False</td>\n",
       "      <td>True</td>\n",
       "      <td>0.852814</td>\n",
       "      <td>38.000000</td>\n",
       "      <td>two-sided</td>\n",
       "      <td>0.399106</td>\n",
       "      <td>0.412</td>\n",
       "      <td>0.264326</td>\n",
       "    </tr>\n",
       "    <tr>\n",
       "      <th>9</th>\n",
       "      <td>Country</td>\n",
       "      <td>GER</td>\n",
       "      <td>ITA</td>\n",
       "      <td>False</td>\n",
       "      <td>True</td>\n",
       "      <td>1.168108</td>\n",
       "      <td>34.668262</td>\n",
       "      <td>two-sided</td>\n",
       "      <td>0.250734</td>\n",
       "      <td>0.538</td>\n",
       "      <td>0.365571</td>\n",
       "    </tr>\n",
       "  </tbody>\n",
       "</table>\n",
       "</div>"
      ],
      "text/plain": [
       "  Contrast    A    B  Paired  Parametric         T        dof alternative  \\\n",
       "0  Country  ENG  ESP   False        True  3.535472  38.000000   two-sided   \n",
       "1  Country  ENG  FRA   False        True  4.342692  38.000000   two-sided   \n",
       "2  Country  ENG  GER   False        True  4.548311  30.491360   two-sided   \n",
       "3  Country  ENG  ITA   False        True  5.095117  38.000000   two-sided   \n",
       "4  Country  ESP  FRA   False        True  0.633980  38.000000   two-sided   \n",
       "5  Country  ESP  GER   False        True  0.509395  32.392753   two-sided   \n",
       "6  Country  ESP  ITA   False        True  1.425441  38.000000   two-sided   \n",
       "7  Country  FRA  GER   False        True -0.208364  34.550020   two-sided   \n",
       "8  Country  FRA  ITA   False        True  0.852814  38.000000   two-sided   \n",
       "9  Country  GER  ITA   False        True  1.168108  34.668262   two-sided   \n",
       "\n",
       "      p-unc      BF10    hedges  \n",
       "0  0.001090    29.042  1.095802  \n",
       "1  0.000101   214.736  1.345996  \n",
       "2  0.000081   337.737  1.406648  \n",
       "3  0.000010  1627.928  1.579207  \n",
       "4  0.529892     0.362  0.196499  \n",
       "5  0.613928     0.349  0.158282  \n",
       "6  0.162193     0.686  0.441809  \n",
       "7  0.836168     0.321 -0.065179  \n",
       "8  0.399106     0.412  0.264326  \n",
       "9  0.250734     0.538  0.365571  "
      ]
     },
     "execution_count": 45,
     "metadata": {},
     "output_type": "execute_result"
    }
   ],
   "source": [
    "#Comprobamos las diferencias entre los grupos con un pairwise_test\n",
    "pg.pairwise_tests(data=df, \n",
    "     dv=\"Attendance\", \n",
    "     between=\"Country\",\n",
    "     padjust=\"none\")"
   ]
  },
  {
   "cell_type": "markdown",
   "id": "05554a14",
   "metadata": {},
   "source": [
    "Como lo habíamos visto en la gráfica la diferencia estadistica significativa entre las medias se presenta en los pares entre Inglaterra y los otro cuatro paises. \n",
    "\n",
    "Sin embargo, al ser tantos test puede que caigamos en un error del tipo I (falso positivo, rechazar un null verdadero). Por esta razón tenemos que realizar correciones, un de ellas la de Bonferroni que podemos correr en la misma función pairwise_tests de pingouin"
   ]
  },
  {
   "cell_type": "code",
   "execution_count": 46,
   "id": "e97c5241",
   "metadata": {},
   "outputs": [
    {
     "data": {
      "text/html": [
       "<div>\n",
       "<style scoped>\n",
       "    .dataframe tbody tr th:only-of-type {\n",
       "        vertical-align: middle;\n",
       "    }\n",
       "\n",
       "    .dataframe tbody tr th {\n",
       "        vertical-align: top;\n",
       "    }\n",
       "\n",
       "    .dataframe thead th {\n",
       "        text-align: right;\n",
       "    }\n",
       "</style>\n",
       "<table border=\"1\" class=\"dataframe\">\n",
       "  <thead>\n",
       "    <tr style=\"text-align: right;\">\n",
       "      <th></th>\n",
       "      <th>Contrast</th>\n",
       "      <th>A</th>\n",
       "      <th>B</th>\n",
       "      <th>Paired</th>\n",
       "      <th>Parametric</th>\n",
       "      <th>T</th>\n",
       "      <th>dof</th>\n",
       "      <th>alternative</th>\n",
       "      <th>p-unc</th>\n",
       "      <th>p-corr</th>\n",
       "      <th>p-adjust</th>\n",
       "      <th>BF10</th>\n",
       "      <th>hedges</th>\n",
       "    </tr>\n",
       "  </thead>\n",
       "  <tbody>\n",
       "    <tr>\n",
       "      <th>0</th>\n",
       "      <td>Country</td>\n",
       "      <td>ENG</td>\n",
       "      <td>ESP</td>\n",
       "      <td>False</td>\n",
       "      <td>True</td>\n",
       "      <td>3.535472</td>\n",
       "      <td>38.000000</td>\n",
       "      <td>two-sided</td>\n",
       "      <td>0.001090</td>\n",
       "      <td>0.010898</td>\n",
       "      <td>bonf</td>\n",
       "      <td>29.042</td>\n",
       "      <td>1.095802</td>\n",
       "    </tr>\n",
       "    <tr>\n",
       "      <th>1</th>\n",
       "      <td>Country</td>\n",
       "      <td>ENG</td>\n",
       "      <td>FRA</td>\n",
       "      <td>False</td>\n",
       "      <td>True</td>\n",
       "      <td>4.342692</td>\n",
       "      <td>38.000000</td>\n",
       "      <td>two-sided</td>\n",
       "      <td>0.000101</td>\n",
       "      <td>0.001009</td>\n",
       "      <td>bonf</td>\n",
       "      <td>214.736</td>\n",
       "      <td>1.345996</td>\n",
       "    </tr>\n",
       "    <tr>\n",
       "      <th>2</th>\n",
       "      <td>Country</td>\n",
       "      <td>ENG</td>\n",
       "      <td>GER</td>\n",
       "      <td>False</td>\n",
       "      <td>True</td>\n",
       "      <td>4.548311</td>\n",
       "      <td>30.491360</td>\n",
       "      <td>two-sided</td>\n",
       "      <td>0.000081</td>\n",
       "      <td>0.000806</td>\n",
       "      <td>bonf</td>\n",
       "      <td>337.737</td>\n",
       "      <td>1.406648</td>\n",
       "    </tr>\n",
       "    <tr>\n",
       "      <th>3</th>\n",
       "      <td>Country</td>\n",
       "      <td>ENG</td>\n",
       "      <td>ITA</td>\n",
       "      <td>False</td>\n",
       "      <td>True</td>\n",
       "      <td>5.095117</td>\n",
       "      <td>38.000000</td>\n",
       "      <td>two-sided</td>\n",
       "      <td>0.000010</td>\n",
       "      <td>0.000099</td>\n",
       "      <td>bonf</td>\n",
       "      <td>1627.928</td>\n",
       "      <td>1.579207</td>\n",
       "    </tr>\n",
       "    <tr>\n",
       "      <th>4</th>\n",
       "      <td>Country</td>\n",
       "      <td>ESP</td>\n",
       "      <td>FRA</td>\n",
       "      <td>False</td>\n",
       "      <td>True</td>\n",
       "      <td>0.633980</td>\n",
       "      <td>38.000000</td>\n",
       "      <td>two-sided</td>\n",
       "      <td>0.529892</td>\n",
       "      <td>1.000000</td>\n",
       "      <td>bonf</td>\n",
       "      <td>0.362</td>\n",
       "      <td>0.196499</td>\n",
       "    </tr>\n",
       "    <tr>\n",
       "      <th>5</th>\n",
       "      <td>Country</td>\n",
       "      <td>ESP</td>\n",
       "      <td>GER</td>\n",
       "      <td>False</td>\n",
       "      <td>True</td>\n",
       "      <td>0.509395</td>\n",
       "      <td>32.392753</td>\n",
       "      <td>two-sided</td>\n",
       "      <td>0.613928</td>\n",
       "      <td>1.000000</td>\n",
       "      <td>bonf</td>\n",
       "      <td>0.349</td>\n",
       "      <td>0.158282</td>\n",
       "    </tr>\n",
       "    <tr>\n",
       "      <th>6</th>\n",
       "      <td>Country</td>\n",
       "      <td>ESP</td>\n",
       "      <td>ITA</td>\n",
       "      <td>False</td>\n",
       "      <td>True</td>\n",
       "      <td>1.425441</td>\n",
       "      <td>38.000000</td>\n",
       "      <td>two-sided</td>\n",
       "      <td>0.162193</td>\n",
       "      <td>1.000000</td>\n",
       "      <td>bonf</td>\n",
       "      <td>0.686</td>\n",
       "      <td>0.441809</td>\n",
       "    </tr>\n",
       "    <tr>\n",
       "      <th>7</th>\n",
       "      <td>Country</td>\n",
       "      <td>FRA</td>\n",
       "      <td>GER</td>\n",
       "      <td>False</td>\n",
       "      <td>True</td>\n",
       "      <td>-0.208364</td>\n",
       "      <td>34.550020</td>\n",
       "      <td>two-sided</td>\n",
       "      <td>0.836168</td>\n",
       "      <td>1.000000</td>\n",
       "      <td>bonf</td>\n",
       "      <td>0.321</td>\n",
       "      <td>-0.065179</td>\n",
       "    </tr>\n",
       "    <tr>\n",
       "      <th>8</th>\n",
       "      <td>Country</td>\n",
       "      <td>FRA</td>\n",
       "      <td>ITA</td>\n",
       "      <td>False</td>\n",
       "      <td>True</td>\n",
       "      <td>0.852814</td>\n",
       "      <td>38.000000</td>\n",
       "      <td>two-sided</td>\n",
       "      <td>0.399106</td>\n",
       "      <td>1.000000</td>\n",
       "      <td>bonf</td>\n",
       "      <td>0.412</td>\n",
       "      <td>0.264326</td>\n",
       "    </tr>\n",
       "    <tr>\n",
       "      <th>9</th>\n",
       "      <td>Country</td>\n",
       "      <td>GER</td>\n",
       "      <td>ITA</td>\n",
       "      <td>False</td>\n",
       "      <td>True</td>\n",
       "      <td>1.168108</td>\n",
       "      <td>34.668262</td>\n",
       "      <td>two-sided</td>\n",
       "      <td>0.250734</td>\n",
       "      <td>1.000000</td>\n",
       "      <td>bonf</td>\n",
       "      <td>0.538</td>\n",
       "      <td>0.365571</td>\n",
       "    </tr>\n",
       "  </tbody>\n",
       "</table>\n",
       "</div>"
      ],
      "text/plain": [
       "  Contrast    A    B  Paired  Parametric         T        dof alternative  \\\n",
       "0  Country  ENG  ESP   False        True  3.535472  38.000000   two-sided   \n",
       "1  Country  ENG  FRA   False        True  4.342692  38.000000   two-sided   \n",
       "2  Country  ENG  GER   False        True  4.548311  30.491360   two-sided   \n",
       "3  Country  ENG  ITA   False        True  5.095117  38.000000   two-sided   \n",
       "4  Country  ESP  FRA   False        True  0.633980  38.000000   two-sided   \n",
       "5  Country  ESP  GER   False        True  0.509395  32.392753   two-sided   \n",
       "6  Country  ESP  ITA   False        True  1.425441  38.000000   two-sided   \n",
       "7  Country  FRA  GER   False        True -0.208364  34.550020   two-sided   \n",
       "8  Country  FRA  ITA   False        True  0.852814  38.000000   two-sided   \n",
       "9  Country  GER  ITA   False        True  1.168108  34.668262   two-sided   \n",
       "\n",
       "      p-unc    p-corr p-adjust      BF10    hedges  \n",
       "0  0.001090  0.010898     bonf    29.042  1.095802  \n",
       "1  0.000101  0.001009     bonf   214.736  1.345996  \n",
       "2  0.000081  0.000806     bonf   337.737  1.406648  \n",
       "3  0.000010  0.000099     bonf  1627.928  1.579207  \n",
       "4  0.529892  1.000000     bonf     0.362  0.196499  \n",
       "5  0.613928  1.000000     bonf     0.349  0.158282  \n",
       "6  0.162193  1.000000     bonf     0.686  0.441809  \n",
       "7  0.836168  1.000000     bonf     0.321 -0.065179  \n",
       "8  0.399106  1.000000     bonf     0.412  0.264326  \n",
       "9  0.250734  1.000000     bonf     0.538  0.365571  "
      ]
     },
     "execution_count": 46,
     "metadata": {},
     "output_type": "execute_result"
    }
   ],
   "source": [
    "#correr pairwise_test de pingouin con la corrección de Bonferroni\n",
    "\n",
    "pg.pairwise_tests(data=df, \n",
    "     dv=\"Attendance\", \n",
    "     between=\"Country\",\n",
    "     padjust=\"bonf\")"
   ]
  },
  {
   "cell_type": "markdown",
   "id": "d16640c8",
   "metadata": {},
   "source": [
    "En la columna p-corr podemos observar que en las primeras cuatro filas (aquellas que tienen en su grupo a ENG) aun tenemos un pvalue que nos permite rechazar la hipótesis nula. Sin embargo, la correción de Bonferroni puede ser bastante conservadora así que utilizaremos stats para correr la corrección de Tukey que es menos conservadora. Además graficaremos el test para observar los intervalos de confianza"
   ]
  },
  {
   "cell_type": "code",
   "execution_count": 47,
   "id": "47c0e6f9",
   "metadata": {},
   "outputs": [
    {
     "data": {
      "text/html": [
       "<table class=\"simpletable\">\n",
       "<caption>Multiple Comparison of Means - Tukey HSD, FWER=0.05</caption>\n",
       "<tr>\n",
       "  <th>group1</th> <th>group2</th>  <th>meandiff</th>    <th>p-adj</th>    <th>lower</th>       <th>upper</th>    <th>reject</th>\n",
       "</tr>\n",
       "<tr>\n",
       "    <td>ENG</td>    <td>ESP</td>   <td>-16601.1</td>   <td>0.0008</td> <td>-27855.8926</td> <td>-5346.3074</td>   <td>True</td> \n",
       "</tr>\n",
       "<tr>\n",
       "    <td>ENG</td>    <td>FRA</td>   <td>-19224.7</td>   <td>0.0001</td> <td>-30479.4926</td> <td>-7969.9074</td>   <td>True</td> \n",
       "</tr>\n",
       "<tr>\n",
       "    <td>ENG</td>    <td>GER</td>  <td>-18513.6444</td> <td>0.0002</td> <td>-30076.8447</td> <td>-6950.4442</td>   <td>True</td> \n",
       "</tr>\n",
       "<tr>\n",
       "    <td>ENG</td>    <td>ITA</td>   <td>-22476.25</td>    <td>0.0</td>  <td>-33731.0426</td> <td>-11221.4574</td>  <td>True</td> \n",
       "</tr>\n",
       "<tr>\n",
       "    <td>ESP</td>    <td>FRA</td>    <td>-2623.6</td>   <td>0.9665</td> <td>-13878.3926</td>  <td>8631.1926</td>   <td>False</td>\n",
       "</tr>\n",
       "<tr>\n",
       "    <td>ESP</td>    <td>GER</td>  <td>-1912.5444</td>  <td>0.9906</td> <td>-13475.7447</td>  <td>9650.6558</td>   <td>False</td>\n",
       "</tr>\n",
       "<tr>\n",
       "    <td>ESP</td>    <td>ITA</td>   <td>-5875.15</td>   <td>0.5958</td> <td>-17129.9426</td>  <td>5379.6426</td>   <td>False</td>\n",
       "</tr>\n",
       "<tr>\n",
       "    <td>FRA</td>    <td>GER</td>   <td>711.0556</td>   <td>0.9998</td> <td>-10852.1447</td> <td>12274.2558</td>   <td>False</td>\n",
       "</tr>\n",
       "<tr>\n",
       "    <td>FRA</td>    <td>ITA</td>   <td>-3251.55</td>   <td>0.9289</td> <td>-14506.3426</td>  <td>8003.2426</td>   <td>False</td>\n",
       "</tr>\n",
       "<tr>\n",
       "    <td>GER</td>    <td>ITA</td>  <td>-3962.6056</td>   <td>0.875</td> <td>-15525.8058</td>  <td>7600.5947</td>   <td>False</td>\n",
       "</tr>\n",
       "</table>"
      ],
      "text/latex": [
       "\\begin{center}\n",
       "\\begin{tabular}{ccccccc}\n",
       "\\toprule\n",
       "\\textbf{group1} & \\textbf{group2} & \\textbf{meandiff} & \\textbf{p-adj} & \\textbf{lower} & \\textbf{upper} & \\textbf{reject}  \\\\\n",
       "\\midrule\n",
       "      ENG       &       ESP       &      -16601.1     &     0.0008     &  -27855.8926   &   -5346.3074   &       True       \\\\\n",
       "      ENG       &       FRA       &      -19224.7     &     0.0001     &  -30479.4926   &   -7969.9074   &       True       \\\\\n",
       "      ENG       &       GER       &    -18513.6444    &     0.0002     &  -30076.8447   &   -6950.4442   &       True       \\\\\n",
       "      ENG       &       ITA       &     -22476.25     &      0.0       &  -33731.0426   &  -11221.4574   &       True       \\\\\n",
       "      ESP       &       FRA       &      -2623.6      &     0.9665     &  -13878.3926   &   8631.1926    &      False       \\\\\n",
       "      ESP       &       GER       &     -1912.5444    &     0.9906     &  -13475.7447   &   9650.6558    &      False       \\\\\n",
       "      ESP       &       ITA       &      -5875.15     &     0.5958     &  -17129.9426   &   5379.6426    &      False       \\\\\n",
       "      FRA       &       GER       &      711.0556     &     0.9998     &  -10852.1447   &   12274.2558   &      False       \\\\\n",
       "      FRA       &       ITA       &      -3251.55     &     0.9289     &  -14506.3426   &   8003.2426    &      False       \\\\\n",
       "      GER       &       ITA       &     -3962.6056    &     0.875      &  -15525.8058   &   7600.5947    &      False       \\\\\n",
       "\\bottomrule\n",
       "\\end{tabular}\n",
       "%\\caption{Multiple Comparison of Means - Tukey HSD, FWER=0.05}\n",
       "\\end{center}"
      ],
      "text/plain": [
       "<class 'statsmodels.iolib.table.SimpleTable'>"
      ]
     },
     "execution_count": 47,
     "metadata": {},
     "output_type": "execute_result"
    },
    {
     "data": {
      "image/png": "[encoded data removed]",
      "text/plain": [
       "<Figure size 1000x600 with 1 Axes>"
      ]
     },
     "metadata": {},
     "output_type": "display_data"
    }
   ],
   "source": [
    "from statsmodels.stats.multicomp import pairwise_tukeyhsd\n",
    "\n",
    "tukey = pairwise_tukeyhsd(endog=df[\"Attendance\"],     \n",
    "                          groups=df[\"Country\"],   \n",
    "                          alpha=0.05)          \n",
    "\n",
    "#Graficamos los intervalos de confianza\n",
    "tukey.plot_simultaneous()    \n",
    "plt.vlines(x=49.57,ymin=-0.5,ymax=4.5, color=\"red\")\n",
    "\n",
    "tukey.summary() "
   ]
  },
  {
   "cell_type": "markdown",
   "id": "979f2d18",
   "metadata": {},
   "source": [
    "Finalmente, con la correción de Tukey podemos comprobar que realmente si existe una diferencia significativa entre la media de asistencia a los estadios de la liga de Inglaterra y las medias de asistencia de las otras ligas de europa. Además, con dicha correción evitamos caer en falsos positivos. "
   ]
  }
 ],
 "metadata": {
  "kernelspec": {
   "display_name": "Python 3 (ipykernel)",
   "language": "python",
   "name": "python3"
  },
  "language_info": {
   "codemirror_mode": {
    "name": "ipython",
    "version": 3
   },
   "file_extension": ".py",
   "mimetype": "text/x-python",
   "name": "python",
   "nbconvert_exporter": "python",
   "pygments_lexer": "ipython3",
   "version": "3.11.5"
  }
 },
 "nbformat": 4,
 "nbformat_minor": 5
}
