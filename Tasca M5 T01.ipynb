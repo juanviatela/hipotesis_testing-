{
 "cells": [
  {
   "cell_type": "markdown",
   "id": "1fb96212",
   "metadata": {},
   "source": [
    "# Tasca M5 T01"
   ]
  },
  {
   "cell_type": "code",
   "execution_count": 8,
   "id": "2d08b9b4",
   "metadata": {},
   "outputs": [],
   "source": [
    "#Importamos todas las librerías a utilizar\n",
    "import numpy as np \n",
    "import pandas as pd\n",
    "import matplotlib.pyplot as plt\n",
    "import seaborn as sns \n",
    "import scipy.stats as stats\n",
    "import pingouin as pg\n",
    "import warnings\n",
    "\n",
    "#configuramos pd para que nos muestre todas las columnas\n",
    "pd.set_option('display.max_columns', None)\n",
    "\n",
    "#suprimimos los warnings\n",
    "warnings.filterwarnings(\"ignore\")"
   ]
  },
  {
   "cell_type": "markdown",
   "id": "220f9dac",
   "metadata": {},
   "source": [
    "## Importación, descripción y preprocesamiento del data set"
   ]
  },
  {
   "cell_type": "code",
   "execution_count": 9,
   "id": "b8fbded9",
   "metadata": {},
   "outputs": [],
   "source": [
    "#Importamos el dataset desde el archivo 'Lligues europees UEFA.csv'\n",
    "\n",
    "df = pd.read_csv(\"Lligues europees UEFA.csv\", sep='\\;', encoding='latin-1', engine='python')"
   ]
  },
  {
   "cell_type": "code",
   "execution_count": 10,
   "id": "f8bb2ac6",
   "metadata": {},
   "outputs": [
    {
     "data": {
      "text/html": [
       "<div>\n",
       "<style scoped>\n",
       "    .dataframe tbody tr th:only-of-type {\n",
       "        vertical-align: middle;\n",
       "    }\n",
       "\n",
       "    .dataframe tbody tr th {\n",
       "        vertical-align: top;\n",
       "    }\n",
       "\n",
       "    .dataframe thead th {\n",
       "        text-align: right;\n",
       "    }\n",
       "</style>\n",
       "<table border=\"1\" class=\"dataframe\">\n",
       "  <thead>\n",
       "    <tr style=\"text-align: right;\">\n",
       "      <th></th>\n",
       "      <th>Rk</th>\n",
       "      <th>Squad</th>\n",
       "      <th>Country</th>\n",
       "      <th>LgRk</th>\n",
       "      <th>MP</th>\n",
       "      <th>W</th>\n",
       "      <th>D</th>\n",
       "      <th>L</th>\n",
       "      <th>GF</th>\n",
       "      <th>GA</th>\n",
       "      <th>GD</th>\n",
       "      <th>Pts</th>\n",
       "      <th>Pts/G</th>\n",
       "      <th>xG</th>\n",
       "      <th>xGA</th>\n",
       "      <th>xGD</th>\n",
       "      <th>xGD/90</th>\n",
       "      <th>Last 5</th>\n",
       "      <th>Attendance</th>\n",
       "      <th>Top Team Scorer</th>\n",
       "      <th>Goalkeeper</th>\n",
       "    </tr>\n",
       "  </thead>\n",
       "  <tbody>\n",
       "    <tr>\n",
       "      <th>0</th>\n",
       "      <td>1</td>\n",
       "      <td>Manchester City</td>\n",
       "      <td>ENG</td>\n",
       "      <td>1</td>\n",
       "      <td>37</td>\n",
       "      <td>28</td>\n",
       "      <td>6</td>\n",
       "      <td>3</td>\n",
       "      <td>96</td>\n",
       "      <td>24</td>\n",
       "      <td>72</td>\n",
       "      <td>90</td>\n",
       "      <td>2.43</td>\n",
       "      <td>86.1</td>\n",
       "      <td>26.8</td>\n",
       "      <td>59.3</td>\n",
       "      <td>1.60</td>\n",
       "      <td>W W W W D</td>\n",
       "      <td>52739</td>\n",
       "      <td>Kevin De Bruyne - 15</td>\n",
       "      <td>Ederson</td>\n",
       "    </tr>\n",
       "    <tr>\n",
       "      <th>1</th>\n",
       "      <td>2</td>\n",
       "      <td>Liverpool</td>\n",
       "      <td>ENG</td>\n",
       "      <td>2</td>\n",
       "      <td>36</td>\n",
       "      <td>26</td>\n",
       "      <td>8</td>\n",
       "      <td>2</td>\n",
       "      <td>89</td>\n",
       "      <td>24</td>\n",
       "      <td>65</td>\n",
       "      <td>86</td>\n",
       "      <td>2.39</td>\n",
       "      <td>84.6</td>\n",
       "      <td>33.1</td>\n",
       "      <td>51.4</td>\n",
       "      <td>1.43</td>\n",
       "      <td>W W W D W</td>\n",
       "      <td>53367</td>\n",
       "      <td>Mohamed Salah - 22</td>\n",
       "      <td>Alisson</td>\n",
       "    </tr>\n",
       "    <tr>\n",
       "      <th>2</th>\n",
       "      <td>3</td>\n",
       "      <td>Real Madrid</td>\n",
       "      <td>ESP</td>\n",
       "      <td>1</td>\n",
       "      <td>37</td>\n",
       "      <td>26</td>\n",
       "      <td>7</td>\n",
       "      <td>4</td>\n",
       "      <td>80</td>\n",
       "      <td>31</td>\n",
       "      <td>49</td>\n",
       "      <td>85</td>\n",
       "      <td>2.30</td>\n",
       "      <td>73.0</td>\n",
       "      <td>45.8</td>\n",
       "      <td>27.2</td>\n",
       "      <td>0.73</td>\n",
       "      <td>W W L W D</td>\n",
       "      <td>40624</td>\n",
       "      <td>Karim Benzema - 27</td>\n",
       "      <td>Thibaut Courtois</td>\n",
       "    </tr>\n",
       "    <tr>\n",
       "      <th>3</th>\n",
       "      <td>4</td>\n",
       "      <td>Bayern Munich</td>\n",
       "      <td>GER</td>\n",
       "      <td>1</td>\n",
       "      <td>34</td>\n",
       "      <td>24</td>\n",
       "      <td>5</td>\n",
       "      <td>5</td>\n",
       "      <td>97</td>\n",
       "      <td>37</td>\n",
       "      <td>60</td>\n",
       "      <td>77</td>\n",
       "      <td>2.26</td>\n",
       "      <td>88.1</td>\n",
       "      <td>37.1</td>\n",
       "      <td>51.0</td>\n",
       "      <td>1.50</td>\n",
       "      <td>W W L D D</td>\n",
       "      <td>33176</td>\n",
       "      <td>Robert Lewandowski - 35</td>\n",
       "      <td>Manuel Neuer</td>\n",
       "    </tr>\n",
       "    <tr>\n",
       "      <th>4</th>\n",
       "      <td>5</td>\n",
       "      <td>Paris S-G</td>\n",
       "      <td>FRA</td>\n",
       "      <td>1</td>\n",
       "      <td>37</td>\n",
       "      <td>25</td>\n",
       "      <td>8</td>\n",
       "      <td>4</td>\n",
       "      <td>85</td>\n",
       "      <td>36</td>\n",
       "      <td>49</td>\n",
       "      <td>83</td>\n",
       "      <td>2.24</td>\n",
       "      <td>71.6</td>\n",
       "      <td>38.1</td>\n",
       "      <td>33.4</td>\n",
       "      <td>0.90</td>\n",
       "      <td>W D D D W</td>\n",
       "      <td>41188</td>\n",
       "      <td>Kylian Mbappé - 25</td>\n",
       "      <td>Keylor Navas</td>\n",
       "    </tr>\n",
       "  </tbody>\n",
       "</table>\n",
       "</div>"
      ],
      "text/plain": [
       "   Rk            Squad Country  LgRk  MP   W  D  L  GF  GA  GD  Pts  Pts/G  \\\n",
       "0   1  Manchester City     ENG     1  37  28  6  3  96  24  72   90   2.43   \n",
       "1   2        Liverpool     ENG     2  36  26  8  2  89  24  65   86   2.39   \n",
       "2   3      Real Madrid     ESP     1  37  26  7  4  80  31  49   85   2.30   \n",
       "3   4    Bayern Munich     GER     1  34  24  5  5  97  37  60   77   2.26   \n",
       "4   5        Paris S-G     FRA     1  37  25  8  4  85  36  49   83   2.24   \n",
       "\n",
       "     xG   xGA   xGD  xGD/90     Last 5  Attendance          Top Team Scorer  \\\n",
       "0  86.1  26.8  59.3    1.60  W W W W D       52739     Kevin De Bruyne - 15   \n",
       "1  84.6  33.1  51.4    1.43  W W W D W       53367       Mohamed Salah - 22   \n",
       "2  73.0  45.8  27.2    0.73  W W L W D       40624       Karim Benzema - 27   \n",
       "3  88.1  37.1  51.0    1.50  W W L D D       33176  Robert Lewandowski - 35   \n",
       "4  71.6  38.1  33.4    0.90  W D D D W       41188       Kylian Mbappé - 25   \n",
       "\n",
       "         Goalkeeper  \n",
       "0           Ederson  \n",
       "1           Alisson  \n",
       "2  Thibaut Courtois  \n",
       "3      Manuel Neuer  \n",
       "4      Keylor Navas  "
      ]
     },
     "execution_count": 10,
     "metadata": {},
     "output_type": "execute_result"
    }
   ],
   "source": [
    "#Primera aproximación al dataset\n",
    "df.head()"
   ]
  },
  {
   "cell_type": "markdown",
   "id": "254d4ca0",
   "metadata": {},
   "source": [
    "A partir de una primera observación general del dataset podemos decir que: \n",
    "- reune varias features de la temporada de fútbol 2021-2022 de las principales ligas europeas \n",
    "- cada observación (fila) representa los datos de un equipo ordenados por ranking\n",
    "- La columna 'Country' agrupa los equipos por países\n",
    "- Tenemos dos columnas que presentan proporciones (Pts/G y xGD90)\n",
    "- Cinco columnas con variables categóricas: 'Squad', 'Country', 'Last5', 'Top Team Scorer' y 'Goalkeeper'"
   ]
  },
  {
   "cell_type": "code",
   "execution_count": 5,
   "id": "73012aee",
   "metadata": {},
   "outputs": [
    {
     "name": "stdout",
     "output_type": "stream",
     "text": [
      "<class 'pandas.core.frame.DataFrame'>\n",
      "RangeIndex: 98 entries, 0 to 97\n",
      "Data columns (total 21 columns):\n",
      " #   Column           Non-Null Count  Dtype  \n",
      "---  ------           --------------  -----  \n",
      " 0   Rk               98 non-null     int64  \n",
      " 1   Squad            98 non-null     object \n",
      " 2   Country          98 non-null     object \n",
      " 3   LgRk             98 non-null     int64  \n",
      " 4   MP               98 non-null     int64  \n",
      " 5   W                98 non-null     int64  \n",
      " 6   D                98 non-null     int64  \n",
      " 7   L                98 non-null     int64  \n",
      " 8   GF               98 non-null     int64  \n",
      " 9   GA               98 non-null     int64  \n",
      " 10  GD               98 non-null     int64  \n",
      " 11  Pts              98 non-null     int64  \n",
      " 12  Pts/G            98 non-null     float64\n",
      " 13  xG               98 non-null     float64\n",
      " 14  xGA              98 non-null     float64\n",
      " 15  xGD              98 non-null     float64\n",
      " 16  xGD/90           98 non-null     float64\n",
      " 17  Last 5           98 non-null     object \n",
      " 18  Attendance       98 non-null     int64  \n",
      " 19  Top Team Scorer  98 non-null     object \n",
      " 20  Goalkeeper       98 non-null     object \n",
      "dtypes: float64(5), int64(11), object(5)\n",
      "memory usage: 16.2+ KB\n"
     ]
    }
   ],
   "source": [
    "# info del dataset\n",
    "df.info()"
   ]
  },
  {
   "cell_type": "markdown",
   "id": "d55939c0",
   "metadata": {},
   "source": [
    "Tenemos un dataframe con 20 columnas y 98 observaciones. 5 columnas son object, 5 float y 10 int\n",
    "\n",
    "Según las columnas tenemos: \n",
    "- Rk: Ranking\n",
    "- Squad: Nombre del equipo\n",
    "- Country: País del equipo (ESP, FRA, ING, GER, ITA)\n",
    "- LgRk: Ranking de Liga \n",
    "- MP: Partidos jugados (Partidos Jugados):\n",
    "- W: Número de partidos ganados \n",
    "- D: Número de partidos empatados \n",
    "- L: Número de partidos perdidos \n",
    "- GF: Goles a Favor\n",
    "- GA: Goles en Contra\n",
    "- GD: Diferencia de Goles\n",
    "- Pts: Puntos\n",
    "- Pts/G: Puntos por Partido\n",
    "- xG: Número esperado de goles marcados\n",
    "- xGA: Número esperado de goles recibidos.\n",
    "- xGD: Diferencia entre goles esperados a favor y goles esperados en contra.\n",
    "- xGD/90: Diferencia de goles esperados ajustada por 90 minutos.\n",
    "- Last 5 : Información sobre los últimos 5 partidos.\n",
    "- Attendance: Número de asistentes a los partidos.\n",
    "- Top Team Scorer: Nombre del máximo goleador del equipo.\n",
    "- Goalkeeper: Nombre del portero del equipo."
   ]
  },
  {
   "cell_type": "code",
   "execution_count": 18,
   "id": "b10eb6af",
   "metadata": {},
   "outputs": [
    {
     "name": "stdout",
     "output_type": "stream",
     "text": [
      "dataset sin nulos\n"
     ]
    }
   ],
   "source": [
    "#comprobación de nulos\n",
    "nulos = df.isnull().sum()\n",
    "\n",
    "if nulos.all() == 0: \n",
    "    print(\"dataset sin nulos\")\n",
    "else: \n",
    "    print(\"dataset con nulos\")"
   ]
  },
  {
   "cell_type": "markdown",
   "id": "4ab430fe",
   "metadata": {},
   "source": [
    "# Hypothesis test \n",
    "\n",
    "Para cumplir con los ejercicios planteados realizaremos tres tipos de hypothesis test: \n",
    "\n",
    "- Prueba de t para evaluar si la media de asistencia de la temporada 2021 - 2022 es significativamente diferente del promedio histórico de asistencia. \n",
    "- Prueba t de dos muestras para comparar la media de goles a favor entre los equipos de la liga española y los equipos de la liga alemana.\n",
    "- Prueba ANOVA para comparar la media de la diferencia de goles entre las 5 ligas. \n",
    "\n",
    "Para los todos los tests utilizaremos un α de 0.05\n",
    "\n",
    "Los tres test los realizaremos con el paquete scipy.stats, pero también con el paquete pingouin. \n"
   ]
  },
  {
   "cell_type": "markdown",
   "id": "0c38d213",
   "metadata": {},
   "source": [
    "## Prueba de t-test de una sola variable \n",
    "\n",
    "En este test utilizaremos una t-test para comparar la media de asistencia de la temporada 2021-2022 con la media de asistencia de la última década. Asimilaremos este último valor como la media poblacional. Esta información la obtuvimos de: https://www.statista.com/statistics/261213/european-soccer-leagues-average-attendance/ \n",
    "\n",
    "Así, las hipótesis son: \n",
    "\n",
    "- H0: La media de asistencia de la temporada 2021-2022 y la media de asistencia de los últimos 10 años son iguales. \n",
    "- H1: La media de asistencia de la temporada 2012-2022 es menor que la media de asistencia de los últimos 10 años. "
   ]
  },
  {
   "cell_type": "code",
   "execution_count": 20,
   "id": "7b0fbf9b",
   "metadata": {},
   "outputs": [],
   "source": [
    "#creamos una lista que contiene las asistencias promedio de los últimos 10 años. \n",
    "\n",
    "attendance_pop = [30317.2, 30209, 30163.6, 29730.8, 31517.4, 31348.6, 31833.8, 3559.6, 24924.2, 33211.4]"
   ]
  },
  {
   "cell_type": "code",
   "execution_count": 25,
   "id": "c1f74bca",
   "metadata": {},
   "outputs": [
    {
     "name": "stdout",
     "output_type": "stream",
     "text": [
      "27681.560000000005 24239.85714285714\n"
     ]
    }
   ],
   "source": [
    "#calculamos las medias a compartir\n",
    "\n",
    "#media poblacional\n",
    "attendance_pop_mean = np.mean(attendance_pop)\n",
    "\n",
    "#media de la muestra\n",
    "sample_att_mean = df[\"Attendance\"].mean()\n",
    "\n",
    "print(attendance_pop_mean, sample_att_mean)"
   ]
  },
  {
   "cell_type": "markdown",
   "id": "84b95d1a",
   "metadata": {},
   "source": [
    "La media de de la muestra (asistencia promedio en la temporada 2021-22) es menor que la media poblacional. Correremos el t-test para comprobar si esta diferencia es estadísticamente significativa.\n",
    "\n",
    "Asumimos que si el p-valor es menor que alpha rechazaremos la hipótesis nula"
   ]
  },
  {
   "cell_type": "code",
   "execution_count": 44,
   "id": "d3f55b60",
   "metadata": {},
   "outputs": [
    {
     "name": "stdout",
     "output_type": "stream",
     "text": [
      "pvalue = 0.01207514959382562\n",
      "Con un 95% de significancia rechazamos la hipótesis nula\n"
     ]
    }
   ],
   "source": [
    "# test de 1 sample con stats\n",
    "\n",
    "# definimos el nivel de significancia\n",
    "alpha = 0.05\n",
    "\n",
    "#corremos la prueba\n",
    "results_ttest = stats.ttest_1samp(a = df[\"Attendance\"],              \n",
    "                 popmean = attendance_pop_mean)\n",
    "\n",
    "#dividimos el pvalue en 2 pues es una prueba de cola izquierda esto significa que estamos buscando un \"menor que\" en la \n",
    "#hipótesis alternativa\n",
    "pvalue = results_ttest.pvalue/2\n",
    "\n",
    "print(\"pvalue =\",pvalue)\n",
    "\n",
    "if pvalue < alpha:\n",
    "    print (\"Con un 95% de significancia rechazamos la hipótesis nula\")\n",
    "else :\n",
    "    print (\"Con un 95% de significancia aceptamos la hipótesis nula\")\n"
   ]
  },
  {
   "cell_type": "markdown",
   "id": "2460908a",
   "metadata": {},
   "source": [
    "Es decir, que con un 95% de significancia estadística podemos afirmar que la media de asistencia de la temporada 2012-2022 fue menor que la media de asistencia de los últimos 10 años.\n",
    "\n",
    "Sin embargo ya que el pvalue es del 1.2%, si corrieramos un t-test con un 99% de significancia estadística tendríamos que aceptar la hipótesis nula. "
   ]
  },
  {
   "cell_type": "markdown",
   "id": "d83471ce",
   "metadata": {},
   "source": [
    "Hagamos una comprobación adicional utilizando el t-statistic y los grados de libertad para calcular el pvalue"
   ]
  },
  {
   "cell_type": "code",
   "execution_count": 49,
   "id": "c6cf3d18",
   "metadata": {},
   "outputs": [
    {
     "data": {
      "text/plain": [
       "TtestResult(statistic=-2.290622991881345, pvalue=0.02415029918765124, df=97)"
      ]
     },
     "execution_count": 49,
     "metadata": {},
     "output_type": "execute_result"
    }
   ],
   "source": [
    "results_ttest"
   ]
  },
  {
   "cell_type": "code",
   "execution_count": 50,
   "id": "71ca319b",
   "metadata": {},
   "outputs": [
    {
     "data": {
      "text/plain": [
       "0.012075841939071696"
      ]
     },
     "execution_count": 50,
     "metadata": {},
     "output_type": "execute_result"
    }
   ],
   "source": [
    "#Los grados de libertad son (n-1) siendo n el número de observaciones de la muestra\n",
    "stats.t.cdf(x= -2.2906, df= 97)     "
   ]
  },
  {
   "cell_type": "markdown",
   "id": "57912bc7",
   "metadata": {},
   "source": [
    "Vamos a realizar el mismo test pero utilizando la librería pingouin. La ventaja de la librería pingouin es que en el argumento alternative podemos incluir qué tipo de test queremos hacer, two-tailed, greater o less dependiendo de la hipótesis alternativa. "
   ]
  },
  {
   "cell_type": "code",
   "execution_count": 58,
   "id": "ed8cea49",
   "metadata": {},
   "outputs": [
    {
     "name": "stdout",
     "output_type": "stream",
     "text": [
      "T-test de una muestra:\n",
      "               T  dof alternative     p-val             CI95%   cohen-d  \\\n",
      "T-test -2.290623   97        less  0.012075  [-inf, 26735.11]  0.231388   \n",
      "\n",
      "         BF10    power  \n",
      "T-test  2.689  0.73557  \n"
     ]
    }
   ],
   "source": [
    "t_test_result = pg.ttest(df[\"Attendance\"], attendance_pop_mean, alternative=\"less\")\n",
    "print(\"T-test de una muestra:\")\n",
    "print(t_test_result)"
   ]
  },
  {
   "cell_type": "markdown",
   "id": "9d28d2c5",
   "metadata": {},
   "source": [
    "Comprobamos que el p-val y el T-test de la librería pingouin son iguales a los resultados del stats. "
   ]
  },
  {
   "cell_type": "markdown",
   "id": "12efef55",
   "metadata": {},
   "source": [
    "## Prueba de t-test de dos variables\n",
    "\n",
    "Para este test utilizaremos dos variables: \n",
    "-los goles a favor marcados por los equipos de la liga española y, \n",
    "-los goles a favor marcados por los equipos de la liga alemana\n",
    "\n",
    "Primero realizaremos una exploración gráfica de las medias de goles a favor (GF) marcados por los equipos de cada liga para determinar cuáles son las dos variables que nos puede interesar comparar. \n",
    "\n",
    "Luego, correremos el test. Como en el caso del test de una sola variable utilizaremos stats y pengouin. "
   ]
  },
  {
   "cell_type": "code",
   "execution_count": 61,
   "id": "1b07d49b",
   "metadata": {},
   "outputs": [
    {
     "data": {
      "image/png": "[encoded data removed]",
      "text/plain": [
       "<Figure size 500x500 with 1 Axes>"
      ]
     },
     "metadata": {},
     "output_type": "display_data"
    }
   ],
   "source": [
    "#barplot de \"GF\" por \"Country\"\n",
    "sns.catplot(x=\"Country\", \n",
    "       y=\"GF\",\n",
    "       data=df, \n",
    "       kind=\"bar\")\n",
    "\n",
    "plt.show()"
   ]
  },
  {
   "cell_type": "markdown",
   "id": "e89138b6",
   "metadata": {},
   "source": [
    "En el barplot podemos ver que casi todas las medias de goles a favor de los cinco países son bastante similares a excepción de las medias España y Alemania. Por tal razón plantearemos como hipótesis: \n",
    "\n",
    "H0: La media de goles a favor de la liga alemana es igual a la media de goles a favor de la liga española. \n",
    "\n",
    "H1: La media de goles a favor de la liga alemana es mayor que la media de goles a favor de la liga española. \n",
    "\n",
    "Como en el anterior test utilizamos un left-tailed aquí redactamos la H1 con un mayor que para utilizar un right-tailed. \n",
    "\n",
    "Utilizaremos el 95% de nivel de significancia. "
   ]
  },
  {
   "cell_type": "code",
   "execution_count": 95,
   "id": "d5c47e41",
   "metadata": {},
   "outputs": [
    {
     "name": "stdout",
     "output_type": "stream",
     "text": [
      "pvalue = 0.12288256852749321\n",
      "Con un 95% de significancia aceptamos la hipótesis nula\n"
     ]
    }
   ],
   "source": [
    "#extraemos los dos subconjuntos\n",
    "ger_GF = df[df[\"Country\"] == \"GER\"][\"GF\"]\n",
    "esp_GF = df[df[\"Country\"] == \"ESP\"][\"GF\"]\n",
    "\n",
    "## definimos el nivel de significancia\n",
    "alpha = 0.05\n",
    "\n",
    "#corremos la prueba\n",
    "results_ttest2 = stats.ttest_ind(ger_GF, esp_GF, equal_var=False, alternative=\"greater\")\n",
    "\n",
    "#Calculamos el pvalue dividendo entre dos pues estamos utilizando una right-taled\n",
    "pvalue = results_ttest2.pvalue\n",
    "\n",
    "print(\"pvalue =\",pvalue)\n",
    "\n",
    "if pvalue < alpha:\n",
    "    print (\"Con un 95% de significancia rechazamos la hipótesis nula\")\n",
    "else :\n",
    "    print (\"Con un 95% de significancia aceptamos la hipótesis nula\")\n"
   ]
  },
  {
   "cell_type": "markdown",
   "id": "9779d7bd",
   "metadata": {},
   "source": [
    "Esto quiere decir que con un 95% de significancia estadística podemos afirmar que la media de goles a favor de la liga alemana es igual que la media de goles a favor de la liga española.\n",
    "\n",
    "Ahora, corramos la prueba con la librería pingouin para verificar la información."
   ]
  },
  {
   "cell_type": "code",
   "execution_count": 97,
   "id": "18c26aaa",
   "metadata": {},
   "outputs": [
    {
     "name": "stdout",
     "output_type": "stream",
     "text": [
      "              T        dof alternative     p-val         CI95%   cohen-d  \\\n",
      "T-test  1.18382  30.048485     greater  0.122883  [-2.82, inf]  0.391826   \n",
      "\n",
      "         BF10    power  \n",
      "T-test  1.092  0.32222  \n"
     ]
    }
   ],
   "source": [
    "result2_test = pg.ttest(ger_GF, esp_GF, alternative='greater')\n",
    "print(result2_test)"
   ]
  },
  {
   "cell_type": "markdown",
   "id": "6a0a0e3b",
   "metadata": {},
   "source": [
    "Podemos comprobar que tanto el T-test(1.183) como el p-val(0.122) son los mismos"
   ]
  },
  {
   "cell_type": "markdown",
   "id": "be14df86",
   "metadata": {},
   "source": [
    "## Prueba ANOVA para comparar más de 3 grupos"
   ]
  },
  {
   "cell_type": "markdown",
   "id": "5ebd7f8f",
   "metadata": {},
   "source": [
    "En este test compararemos 5 conjuntos: los goles en contra (GA) por cada una de las cinco ligas del data set. \n",
    "\n",
    "Primero revisaremos gráficamente las estadísticas de cada grupo para establecer que tipo de diferencias podrían existir\n",
    "\n",
    "Luego, correremos el test. Como en el caso del test de una y dos variables utilizaremos stats y pengouin.\n",
    "\n",
    "Además, revisaremos qué grupos presentan diferencias significativas y añadiremos las correciones necesarias para evitar errores. "
   ]
  },
  {
   "cell_type": "code",
   "execution_count": 120,
   "id": "f82bc80e",
   "metadata": {},
   "outputs": [
    {
     "data": {
      "image/png": "[encoded data removed]",
      "text/plain": [
       "<Figure size 500x500 with 1 Axes>"
      ]
     },
     "metadata": {},
     "output_type": "display_data"
    }
   ],
   "source": [
    "#barplots de diferencia de goles por cada liga\n",
    "sns.catplot(x=\"Country\", \n",
    "       y=\"GA\",\n",
    "       data=df, \n",
    "       kind=\"bar\")\n",
    "\n",
    "plt.show()"
   ]
  },
  {
   "cell_type": "markdown",
   "id": "8bf9203d",
   "metadata": {},
   "source": [
    "El gráfico nos enseña las medias de todos los países son muy similares a excepción de España. Vamos comprobar con el test de ANOVA si esas diferencias son estadísticamente significativas. Así, nuestras hipótesis serán: \n",
    "\n",
    "H0: No existen diferencias entre las medias de diferencia de goles de las cinco ligas más grande de Europa es la misma\n",
    "\n",
    "H1: Existen diferencias entre las medias de diferencia de goles de las cinco ligas más grande de Europa es la misma\n",
    "\n",
    "Utilizaremos el 95% de nivel de significancia"
   ]
  },
  {
   "cell_type": "code",
   "execution_count": 138,
   "id": "c6116ba9",
   "metadata": {},
   "outputs": [
    {
     "name": "stdout",
     "output_type": "stream",
     "text": [
      "pvalue = 0.7294501232830758\n",
      "Con un 95% de significancia aceptamos la hipótesis nula\n"
     ]
    }
   ],
   "source": [
    "# Extraemos los grupos\n",
    "ENG_GD = df[df[\"Country\"] == \"ENG\"][\"GF\"]\n",
    "ESP_GD = df[df[\"Country\"] == \"ESP\"][\"GF\"]\n",
    "GER_GD = df[df[\"Country\"] == \"GER\"][\"GF\"]\n",
    "FRA_GD = df[df[\"Country\"] == \"FRA\"][\"GF\"]\n",
    "ITA_GD = df[df[\"Country\"] == \"ITA\"][\"GF\"]\n",
    "\n",
    "#Corremos la ANOVA\n",
    "results_anova = stats.f_oneway(ENG_GD, ESP_GD, GER_GD, FRA_GD, ITA_GD)\n",
    "\n",
    "print(\"pvalue =\",results_anova.pvalue)\n",
    "\n",
    "if results_anova.pvalue < alpha:\n",
    "    print (\"Con un 95% de significancia rechazamos la hipótesis nula\")\n",
    "else :\n",
    "    print (\"Con un 95% de significancia aceptamos la hipótesis nula\")"
   ]
  },
  {
   "cell_type": "markdown",
   "id": "e3be9d37",
   "metadata": {},
   "source": [
    "Esto quiere decir que con el 95 de significancia estadística podemos decir que no existen diferencias significativas entre las medias de los goles en contra de las cinco ligas europeas más importantes.\n",
    "\n",
    "Ahora comprobemos los resultados con pingouin"
   ]
  },
  {
   "cell_type": "code",
   "execution_count": 123,
   "id": "693b990a",
   "metadata": {},
   "outputs": [
    {
     "data": {
      "text/html": [
       "<div>\n",
       "<style scoped>\n",
       "    .dataframe tbody tr th:only-of-type {\n",
       "        vertical-align: middle;\n",
       "    }\n",
       "\n",
       "    .dataframe tbody tr th {\n",
       "        vertical-align: top;\n",
       "    }\n",
       "\n",
       "    .dataframe thead th {\n",
       "        text-align: right;\n",
       "    }\n",
       "</style>\n",
       "<table border=\"1\" class=\"dataframe\">\n",
       "  <thead>\n",
       "    <tr style=\"text-align: right;\">\n",
       "      <th></th>\n",
       "      <th>Source</th>\n",
       "      <th>ddof1</th>\n",
       "      <th>ddof2</th>\n",
       "      <th>F</th>\n",
       "      <th>p-unc</th>\n",
       "      <th>np2</th>\n",
       "    </tr>\n",
       "  </thead>\n",
       "  <tbody>\n",
       "    <tr>\n",
       "      <th>0</th>\n",
       "      <td>Country</td>\n",
       "      <td>4</td>\n",
       "      <td>93</td>\n",
       "      <td>0.508688</td>\n",
       "      <td>0.72945</td>\n",
       "      <td>0.021411</td>\n",
       "    </tr>\n",
       "  </tbody>\n",
       "</table>\n",
       "</div>"
      ],
      "text/plain": [
       "    Source  ddof1  ddof2         F    p-unc       np2\n",
       "0  Country      4     93  0.508688  0.72945  0.021411"
      ]
     },
     "execution_count": 123,
     "metadata": {},
     "output_type": "execute_result"
    }
   ],
   "source": [
    "#corremos la ANOVA en pingouin\n",
    "pg.anova(data=df,\n",
    "      dv=\"GF\", \n",
    "      between=\"Country\")"
   ]
  },
  {
   "cell_type": "markdown",
   "id": "6eef3c2e",
   "metadata": {},
   "source": [
    "Aunque no pudimos rechazar la hipótesis nula, es decir, que no hay diferencias entre los grupos, vamos a investigar las diferencias específicas entre grupos. Para esto utilizaremos la función pairwise_tests de pingouin. En este caso al no existir diferencias no agregaremos ninguna correción. En el caso de haber diferencias podríamos añadir una test de Bonferroni o Tukey en el keyword \"padjust\")"
   ]
  },
  {
   "cell_type": "code",
   "execution_count": 128,
   "id": "82a3eceb",
   "metadata": {},
   "outputs": [
    {
     "data": {
      "text/html": [
       "<div>\n",
       "<style scoped>\n",
       "    .dataframe tbody tr th:only-of-type {\n",
       "        vertical-align: middle;\n",
       "    }\n",
       "\n",
       "    .dataframe tbody tr th {\n",
       "        vertical-align: top;\n",
       "    }\n",
       "\n",
       "    .dataframe thead th {\n",
       "        text-align: right;\n",
       "    }\n",
       "</style>\n",
       "<table border=\"1\" class=\"dataframe\">\n",
       "  <thead>\n",
       "    <tr style=\"text-align: right;\">\n",
       "      <th></th>\n",
       "      <th>Contrast</th>\n",
       "      <th>A</th>\n",
       "      <th>B</th>\n",
       "      <th>Paired</th>\n",
       "      <th>Parametric</th>\n",
       "      <th>T</th>\n",
       "      <th>dof</th>\n",
       "      <th>alternative</th>\n",
       "      <th>p-unc</th>\n",
       "      <th>BF10</th>\n",
       "      <th>hedges</th>\n",
       "    </tr>\n",
       "  </thead>\n",
       "  <tbody>\n",
       "    <tr>\n",
       "      <th>0</th>\n",
       "      <td>Country</td>\n",
       "      <td>ENG</td>\n",
       "      <td>ESP</td>\n",
       "      <td>False</td>\n",
       "      <td>True</td>\n",
       "      <td>0.852837</td>\n",
       "      <td>38.000000</td>\n",
       "      <td>two-sided</td>\n",
       "      <td>0.399094</td>\n",
       "      <td>0.412</td>\n",
       "      <td>0.264333</td>\n",
       "    </tr>\n",
       "    <tr>\n",
       "      <th>1</th>\n",
       "      <td>Country</td>\n",
       "      <td>ENG</td>\n",
       "      <td>FRA</td>\n",
       "      <td>False</td>\n",
       "      <td>True</td>\n",
       "      <td>-0.114367</td>\n",
       "      <td>38.000000</td>\n",
       "      <td>two-sided</td>\n",
       "      <td>0.909549</td>\n",
       "      <td>0.31</td>\n",
       "      <td>-0.035448</td>\n",
       "    </tr>\n",
       "    <tr>\n",
       "      <th>2</th>\n",
       "      <td>Country</td>\n",
       "      <td>ENG</td>\n",
       "      <td>GER</td>\n",
       "      <td>False</td>\n",
       "      <td>True</td>\n",
       "      <td>-0.339154</td>\n",
       "      <td>35.229849</td>\n",
       "      <td>two-sided</td>\n",
       "      <td>0.736507</td>\n",
       "      <td>0.33</td>\n",
       "      <td>-0.108109</td>\n",
       "    </tr>\n",
       "    <tr>\n",
       "      <th>3</th>\n",
       "      <td>Country</td>\n",
       "      <td>ENG</td>\n",
       "      <td>ITA</td>\n",
       "      <td>False</td>\n",
       "      <td>True</td>\n",
       "      <td>-0.336674</td>\n",
       "      <td>38.000000</td>\n",
       "      <td>two-sided</td>\n",
       "      <td>0.738215</td>\n",
       "      <td>0.323</td>\n",
       "      <td>-0.104350</td>\n",
       "    </tr>\n",
       "    <tr>\n",
       "      <th>4</th>\n",
       "      <td>Country</td>\n",
       "      <td>ESP</td>\n",
       "      <td>FRA</td>\n",
       "      <td>False</td>\n",
       "      <td>True</td>\n",
       "      <td>-1.137199</td>\n",
       "      <td>38.000000</td>\n",
       "      <td>two-sided</td>\n",
       "      <td>0.262575</td>\n",
       "      <td>0.515</td>\n",
       "      <td>-0.352469</td>\n",
       "    </tr>\n",
       "    <tr>\n",
       "      <th>5</th>\n",
       "      <td>Country</td>\n",
       "      <td>ESP</td>\n",
       "      <td>GER</td>\n",
       "      <td>False</td>\n",
       "      <td>True</td>\n",
       "      <td>-1.183820</td>\n",
       "      <td>30.048485</td>\n",
       "      <td>two-sided</td>\n",
       "      <td>0.245765</td>\n",
       "      <td>0.546</td>\n",
       "      <td>-0.383606</td>\n",
       "    </tr>\n",
       "    <tr>\n",
       "      <th>6</th>\n",
       "      <td>Country</td>\n",
       "      <td>ESP</td>\n",
       "      <td>ITA</td>\n",
       "      <td>False</td>\n",
       "      <td>True</td>\n",
       "      <td>-1.372951</td>\n",
       "      <td>38.000000</td>\n",
       "      <td>two-sided</td>\n",
       "      <td>0.177816</td>\n",
       "      <td>0.648</td>\n",
       "      <td>-0.425539</td>\n",
       "    </tr>\n",
       "    <tr>\n",
       "      <th>7</th>\n",
       "      <td>Country</td>\n",
       "      <td>FRA</td>\n",
       "      <td>GER</td>\n",
       "      <td>False</td>\n",
       "      <td>True</td>\n",
       "      <td>-0.269178</td>\n",
       "      <td>30.938050</td>\n",
       "      <td>two-sided</td>\n",
       "      <td>0.789580</td>\n",
       "      <td>0.325</td>\n",
       "      <td>-0.087026</td>\n",
       "    </tr>\n",
       "    <tr>\n",
       "      <th>8</th>\n",
       "      <td>Country</td>\n",
       "      <td>FRA</td>\n",
       "      <td>ITA</td>\n",
       "      <td>False</td>\n",
       "      <td>True</td>\n",
       "      <td>-0.260024</td>\n",
       "      <td>38.000000</td>\n",
       "      <td>two-sided</td>\n",
       "      <td>0.796249</td>\n",
       "      <td>0.317</td>\n",
       "      <td>-0.080593</td>\n",
       "    </tr>\n",
       "    <tr>\n",
       "      <th>9</th>\n",
       "      <td>Country</td>\n",
       "      <td>GER</td>\n",
       "      <td>ITA</td>\n",
       "      <td>False</td>\n",
       "      <td>True</td>\n",
       "      <td>0.052939</td>\n",
       "      <td>31.872185</td>\n",
       "      <td>two-sided</td>\n",
       "      <td>0.958111</td>\n",
       "      <td>0.316</td>\n",
       "      <td>0.017073</td>\n",
       "    </tr>\n",
       "  </tbody>\n",
       "</table>\n",
       "</div>"
      ],
      "text/plain": [
       "  Contrast    A    B  Paired  Parametric         T        dof alternative  \\\n",
       "0  Country  ENG  ESP   False        True  0.852837  38.000000   two-sided   \n",
       "1  Country  ENG  FRA   False        True -0.114367  38.000000   two-sided   \n",
       "2  Country  ENG  GER   False        True -0.339154  35.229849   two-sided   \n",
       "3  Country  ENG  ITA   False        True -0.336674  38.000000   two-sided   \n",
       "4  Country  ESP  FRA   False        True -1.137199  38.000000   two-sided   \n",
       "5  Country  ESP  GER   False        True -1.183820  30.048485   two-sided   \n",
       "6  Country  ESP  ITA   False        True -1.372951  38.000000   two-sided   \n",
       "7  Country  FRA  GER   False        True -0.269178  30.938050   two-sided   \n",
       "8  Country  FRA  ITA   False        True -0.260024  38.000000   two-sided   \n",
       "9  Country  GER  ITA   False        True  0.052939  31.872185   two-sided   \n",
       "\n",
       "      p-unc   BF10    hedges  \n",
       "0  0.399094  0.412  0.264333  \n",
       "1  0.909549   0.31 -0.035448  \n",
       "2  0.736507   0.33 -0.108109  \n",
       "3  0.738215  0.323 -0.104350  \n",
       "4  0.262575  0.515 -0.352469  \n",
       "5  0.245765  0.546 -0.383606  \n",
       "6  0.177816  0.648 -0.425539  \n",
       "7  0.789580  0.325 -0.087026  \n",
       "8  0.796249  0.317 -0.080593  \n",
       "9  0.958111  0.316  0.017073  "
      ]
     },
     "execution_count": 128,
     "metadata": {},
     "output_type": "execute_result"
    }
   ],
   "source": [
    "#Comprobamos las diferencias entre los grupos con un pairwise_test\n",
    "pg.pairwise_tests(data=df, \n",
    "     dv=\"GF\", \n",
    "     between=\"Country\",\n",
    "     padjust=\"none\")"
   ]
  },
  {
   "cell_type": "markdown",
   "id": "fea6fa0a",
   "metadata": {},
   "source": [
    "En el pairwise podemos observar que en ninguno de los 10 grupos existe suficiente significancia estadística para rechazar la hipótesis nul. Es decir, que no existe ninguna diferencia significativa entre la media de los goles en contra en las cinco ligas europeas más importantes"
   ]
  },
  {
   "cell_type": "markdown",
   "id": "38656979",
   "metadata": {},
   "source": [
    "Para poder realizar los test post-hoc realizaremos una comparación entre los cinco grupos de una variable que este algo más dispersa. Con un barplot graficaremos las medias de la variable \"Attendance\" a ver si puede servir como un mejor ejemplo para correr la ANOVA. Utilizaremos el mismo nivel de significancia de 0.05"
   ]
  },
  {
   "cell_type": "code",
   "execution_count": 130,
   "id": "68685ae1",
   "metadata": {},
   "outputs": [
    {
     "data": {
      "image/png": "[encoded data removed]",
      "text/plain": [
       "<Figure size 500x500 with 1 Axes>"
      ]
     },
     "metadata": {},
     "output_type": "display_data"
    }
   ],
   "source": [
    "#barplots de diferencia de asistencia\n",
    "sns.catplot(x=\"Country\", \n",
    "       y=\"Attendance\",\n",
    "       data=df, \n",
    "       kind=\"bar\")\n",
    "\n",
    "plt.show()"
   ]
  },
  {
   "cell_type": "markdown",
   "id": "89335d06",
   "metadata": {},
   "source": [
    "En este caso sí que parece existir una diferencia significativa entre la asistencia a los estadios en la liga inglesa con el resto\n",
    "\n",
    "Formularemos entonces nuestras hipótesis: \n",
    "\n",
    "H0: No hay diferencias entre las medias de asistencia de las cinco principales ligas europeas\n",
    "H1: Existen diferencias entre las medias de asistencia de las cinco principales ligas europeas"
   ]
  },
  {
   "cell_type": "code",
   "execution_count": 139,
   "id": "5437cb76",
   "metadata": {},
   "outputs": [
    {
     "name": "stdout",
     "output_type": "stream",
     "text": [
      "pvalue = 1.6755280882403337e-06\n",
      "Con un 95% de significancia rechazamos la hipótesis nula\n"
     ]
    }
   ],
   "source": [
    "# Definimos alpha\n",
    "alpha = 0.05\n",
    "\n",
    "# Extraemos los grupos\n",
    "ENG_ATT = df[df[\"Country\"] == \"ENG\"][\"Attendance\"]\n",
    "ESP_ATT = df[df[\"Country\"] == \"ESP\"][\"Attendance\"]\n",
    "GER_ATT = df[df[\"Country\"] == \"GER\"][\"Attendance\"]\n",
    "FRA_ATT = df[df[\"Country\"] == \"FRA\"][\"Attendance\"]\n",
    "ITA_ATT = df[df[\"Country\"] == \"ITA\"][\"Attendance\"]\n",
    "\n",
    "#Corremos la ANOVA\n",
    "results_anova_att = stats.f_oneway(ENG_ATT, ESP_ATT, GER_ATT, FRA_ATT, ITA_ATT)\n",
    "\n",
    "print(\"pvalue =\",results_anova_att.pvalue)\n",
    "\n",
    "if results_anova_att.pvalue < alpha:\n",
    "    print (\"Con un 95% de significancia rechazamos la hipótesis nula\")\n",
    "else :\n",
    "    print (\"Con un 95% de significancia aceptamos la hipótesis nula\")"
   ]
  },
  {
   "cell_type": "markdown",
   "id": "a2a312a1",
   "metadata": {},
   "source": [
    "En este caso con un 95% de significancia estadistica podemos rechazar la hipótesis nula y asegurar que hay diferencia entre las medias de asistencia de las mejores ligas europeas. \n",
    "\n",
    "Corramos la ANOVA en pingouin para comprobar los datos"
   ]
  },
  {
   "cell_type": "code",
   "execution_count": 135,
   "id": "58ed82ba",
   "metadata": {},
   "outputs": [
    {
     "data": {
      "text/html": [
       "<div>\n",
       "<style scoped>\n",
       "    .dataframe tbody tr th:only-of-type {\n",
       "        vertical-align: middle;\n",
       "    }\n",
       "\n",
       "    .dataframe tbody tr th {\n",
       "        vertical-align: top;\n",
       "    }\n",
       "\n",
       "    .dataframe thead th {\n",
       "        text-align: right;\n",
       "    }\n",
       "</style>\n",
       "<table border=\"1\" class=\"dataframe\">\n",
       "  <thead>\n",
       "    <tr style=\"text-align: right;\">\n",
       "      <th></th>\n",
       "      <th>Source</th>\n",
       "      <th>ddof1</th>\n",
       "      <th>ddof2</th>\n",
       "      <th>F</th>\n",
       "      <th>p-unc</th>\n",
       "      <th>np2</th>\n",
       "    </tr>\n",
       "  </thead>\n",
       "  <tbody>\n",
       "    <tr>\n",
       "      <th>0</th>\n",
       "      <td>Country</td>\n",
       "      <td>4</td>\n",
       "      <td>93</td>\n",
       "      <td>9.531074</td>\n",
       "      <td>0.000002</td>\n",
       "      <td>0.290749</td>\n",
       "    </tr>\n",
       "  </tbody>\n",
       "</table>\n",
       "</div>"
      ],
      "text/plain": [
       "    Source  ddof1  ddof2         F     p-unc       np2\n",
       "0  Country      4     93  9.531074  0.000002  0.290749"
      ]
     },
     "execution_count": 135,
     "metadata": {},
     "output_type": "execute_result"
    }
   ],
   "source": [
    "#corremos la ANOVA en pingouin\n",
    "pg.anova(data=df,\n",
    "      dv=\"Attendance\", \n",
    "      between=\"Country\")"
   ]
  },
  {
   "cell_type": "markdown",
   "id": "c98fee92",
   "metadata": {},
   "source": [
    "Como en este caso sí que existen diferencias estadísticas vamos a utilizar la función pairwise_tests de pingouin para determinar las diferencias por grupos "
   ]
  },
  {
   "cell_type": "code",
   "execution_count": 143,
   "id": "18ed10b5",
   "metadata": {},
   "outputs": [
    {
     "data": {
      "text/html": [
       "<div>\n",
       "<style scoped>\n",
       "    .dataframe tbody tr th:only-of-type {\n",
       "        vertical-align: middle;\n",
       "    }\n",
       "\n",
       "    .dataframe tbody tr th {\n",
       "        vertical-align: top;\n",
       "    }\n",
       "\n",
       "    .dataframe thead th {\n",
       "        text-align: right;\n",
       "    }\n",
       "</style>\n",
       "<table border=\"1\" class=\"dataframe\">\n",
       "  <thead>\n",
       "    <tr style=\"text-align: right;\">\n",
       "      <th></th>\n",
       "      <th>Contrast</th>\n",
       "      <th>A</th>\n",
       "      <th>B</th>\n",
       "      <th>Paired</th>\n",
       "      <th>Parametric</th>\n",
       "      <th>T</th>\n",
       "      <th>dof</th>\n",
       "      <th>alternative</th>\n",
       "      <th>p-unc</th>\n",
       "      <th>BF10</th>\n",
       "      <th>hedges</th>\n",
       "    </tr>\n",
       "  </thead>\n",
       "  <tbody>\n",
       "    <tr>\n",
       "      <th>0</th>\n",
       "      <td>Country</td>\n",
       "      <td>ENG</td>\n",
       "      <td>ESP</td>\n",
       "      <td>False</td>\n",
       "      <td>True</td>\n",
       "      <td>3.535472</td>\n",
       "      <td>38.000000</td>\n",
       "      <td>two-sided</td>\n",
       "      <td>0.001090</td>\n",
       "      <td>29.042</td>\n",
       "      <td>1.095802</td>\n",
       "    </tr>\n",
       "    <tr>\n",
       "      <th>1</th>\n",
       "      <td>Country</td>\n",
       "      <td>ENG</td>\n",
       "      <td>FRA</td>\n",
       "      <td>False</td>\n",
       "      <td>True</td>\n",
       "      <td>4.342692</td>\n",
       "      <td>38.000000</td>\n",
       "      <td>two-sided</td>\n",
       "      <td>0.000101</td>\n",
       "      <td>214.736</td>\n",
       "      <td>1.345996</td>\n",
       "    </tr>\n",
       "    <tr>\n",
       "      <th>2</th>\n",
       "      <td>Country</td>\n",
       "      <td>ENG</td>\n",
       "      <td>GER</td>\n",
       "      <td>False</td>\n",
       "      <td>True</td>\n",
       "      <td>4.548311</td>\n",
       "      <td>30.491360</td>\n",
       "      <td>two-sided</td>\n",
       "      <td>0.000081</td>\n",
       "      <td>337.737</td>\n",
       "      <td>1.406648</td>\n",
       "    </tr>\n",
       "    <tr>\n",
       "      <th>3</th>\n",
       "      <td>Country</td>\n",
       "      <td>ENG</td>\n",
       "      <td>ITA</td>\n",
       "      <td>False</td>\n",
       "      <td>True</td>\n",
       "      <td>5.095117</td>\n",
       "      <td>38.000000</td>\n",
       "      <td>two-sided</td>\n",
       "      <td>0.000010</td>\n",
       "      <td>1627.928</td>\n",
       "      <td>1.579207</td>\n",
       "    </tr>\n",
       "    <tr>\n",
       "      <th>4</th>\n",
       "      <td>Country</td>\n",
       "      <td>ESP</td>\n",
       "      <td>FRA</td>\n",
       "      <td>False</td>\n",
       "      <td>True</td>\n",
       "      <td>0.633980</td>\n",
       "      <td>38.000000</td>\n",
       "      <td>two-sided</td>\n",
       "      <td>0.529892</td>\n",
       "      <td>0.362</td>\n",
       "      <td>0.196499</td>\n",
       "    </tr>\n",
       "    <tr>\n",
       "      <th>5</th>\n",
       "      <td>Country</td>\n",
       "      <td>ESP</td>\n",
       "      <td>GER</td>\n",
       "      <td>False</td>\n",
       "      <td>True</td>\n",
       "      <td>0.509395</td>\n",
       "      <td>32.392753</td>\n",
       "      <td>two-sided</td>\n",
       "      <td>0.613928</td>\n",
       "      <td>0.349</td>\n",
       "      <td>0.158282</td>\n",
       "    </tr>\n",
       "    <tr>\n",
       "      <th>6</th>\n",
       "      <td>Country</td>\n",
       "      <td>ESP</td>\n",
       "      <td>ITA</td>\n",
       "      <td>False</td>\n",
       "      <td>True</td>\n",
       "      <td>1.425441</td>\n",
       "      <td>38.000000</td>\n",
       "      <td>two-sided</td>\n",
       "      <td>0.162193</td>\n",
       "      <td>0.686</td>\n",
       "      <td>0.441809</td>\n",
       "    </tr>\n",
       "    <tr>\n",
       "      <th>7</th>\n",
       "      <td>Country</td>\n",
       "      <td>FRA</td>\n",
       "      <td>GER</td>\n",
       "      <td>False</td>\n",
       "      <td>True</td>\n",
       "      <td>-0.208364</td>\n",
       "      <td>34.550020</td>\n",
       "      <td>two-sided</td>\n",
       "      <td>0.836168</td>\n",
       "      <td>0.321</td>\n",
       "      <td>-0.065179</td>\n",
       "    </tr>\n",
       "    <tr>\n",
       "      <th>8</th>\n",
       "      <td>Country</td>\n",
       "      <td>FRA</td>\n",
       "      <td>ITA</td>\n",
       "      <td>False</td>\n",
       "      <td>True</td>\n",
       "      <td>0.852814</td>\n",
       "      <td>38.000000</td>\n",
       "      <td>two-sided</td>\n",
       "      <td>0.399106</td>\n",
       "      <td>0.412</td>\n",
       "      <td>0.264326</td>\n",
       "    </tr>\n",
       "    <tr>\n",
       "      <th>9</th>\n",
       "      <td>Country</td>\n",
       "      <td>GER</td>\n",
       "      <td>ITA</td>\n",
       "      <td>False</td>\n",
       "      <td>True</td>\n",
       "      <td>1.168108</td>\n",
       "      <td>34.668262</td>\n",
       "      <td>two-sided</td>\n",
       "      <td>0.250734</td>\n",
       "      <td>0.538</td>\n",
       "      <td>0.365571</td>\n",
       "    </tr>\n",
       "  </tbody>\n",
       "</table>\n",
       "</div>"
      ],
      "text/plain": [
       "  Contrast    A    B  Paired  Parametric         T        dof alternative  \\\n",
       "0  Country  ENG  ESP   False        True  3.535472  38.000000   two-sided   \n",
       "1  Country  ENG  FRA   False        True  4.342692  38.000000   two-sided   \n",
       "2  Country  ENG  GER   False        True  4.548311  30.491360   two-sided   \n",
       "3  Country  ENG  ITA   False        True  5.095117  38.000000   two-sided   \n",
       "4  Country  ESP  FRA   False        True  0.633980  38.000000   two-sided   \n",
       "5  Country  ESP  GER   False        True  0.509395  32.392753   two-sided   \n",
       "6  Country  ESP  ITA   False        True  1.425441  38.000000   two-sided   \n",
       "7  Country  FRA  GER   False        True -0.208364  34.550020   two-sided   \n",
       "8  Country  FRA  ITA   False        True  0.852814  38.000000   two-sided   \n",
       "9  Country  GER  ITA   False        True  1.168108  34.668262   two-sided   \n",
       "\n",
       "      p-unc      BF10    hedges  \n",
       "0  0.001090    29.042  1.095802  \n",
       "1  0.000101   214.736  1.345996  \n",
       "2  0.000081   337.737  1.406648  \n",
       "3  0.000010  1627.928  1.579207  \n",
       "4  0.529892     0.362  0.196499  \n",
       "5  0.613928     0.349  0.158282  \n",
       "6  0.162193     0.686  0.441809  \n",
       "7  0.836168     0.321 -0.065179  \n",
       "8  0.399106     0.412  0.264326  \n",
       "9  0.250734     0.538  0.365571  "
      ]
     },
     "execution_count": 143,
     "metadata": {},
     "output_type": "execute_result"
    }
   ],
   "source": [
    "#Comprobamos las diferencias entre los grupos con un pairwise_test\n",
    "pg.pairwise_tests(data=df, \n",
    "     dv=\"Attendance\", \n",
    "     between=\"Country\",\n",
    "     padjust=\"none\")"
   ]
  },
  {
   "cell_type": "markdown",
   "id": "05554a14",
   "metadata": {},
   "source": [
    "Como lo habíamos visto en la gráfica la diferencia estadistica significativa entre las medias se presenta en los pares entre Inglaterra y los otro cuatro paises. \n",
    "\n",
    "Sin embargo, al ser tantos test puede que caigamos en un error del tipo I (falso positivo, rechazar un null verdadero). Por esta razon tenemos que realizar correciones, un de ellas la de Bonferroni que podemos corren en la misma función pairwise_tests de pingouin"
   ]
  },
  {
   "cell_type": "code",
   "execution_count": 144,
   "id": "e97c5241",
   "metadata": {},
   "outputs": [
    {
     "data": {
      "text/html": [
       "<div>\n",
       "<style scoped>\n",
       "    .dataframe tbody tr th:only-of-type {\n",
       "        vertical-align: middle;\n",
       "    }\n",
       "\n",
       "    .dataframe tbody tr th {\n",
       "        vertical-align: top;\n",
       "    }\n",
       "\n",
       "    .dataframe thead th {\n",
       "        text-align: right;\n",
       "    }\n",
       "</style>\n",
       "<table border=\"1\" class=\"dataframe\">\n",
       "  <thead>\n",
       "    <tr style=\"text-align: right;\">\n",
       "      <th></th>\n",
       "      <th>Contrast</th>\n",
       "      <th>A</th>\n",
       "      <th>B</th>\n",
       "      <th>Paired</th>\n",
       "      <th>Parametric</th>\n",
       "      <th>T</th>\n",
       "      <th>dof</th>\n",
       "      <th>alternative</th>\n",
       "      <th>p-unc</th>\n",
       "      <th>p-corr</th>\n",
       "      <th>p-adjust</th>\n",
       "      <th>BF10</th>\n",
       "      <th>hedges</th>\n",
       "    </tr>\n",
       "  </thead>\n",
       "  <tbody>\n",
       "    <tr>\n",
       "      <th>0</th>\n",
       "      <td>Country</td>\n",
       "      <td>ENG</td>\n",
       "      <td>ESP</td>\n",
       "      <td>False</td>\n",
       "      <td>True</td>\n",
       "      <td>3.535472</td>\n",
       "      <td>38.000000</td>\n",
       "      <td>two-sided</td>\n",
       "      <td>0.001090</td>\n",
       "      <td>0.010898</td>\n",
       "      <td>bonf</td>\n",
       "      <td>29.042</td>\n",
       "      <td>1.095802</td>\n",
       "    </tr>\n",
       "    <tr>\n",
       "      <th>1</th>\n",
       "      <td>Country</td>\n",
       "      <td>ENG</td>\n",
       "      <td>FRA</td>\n",
       "      <td>False</td>\n",
       "      <td>True</td>\n",
       "      <td>4.342692</td>\n",
       "      <td>38.000000</td>\n",
       "      <td>two-sided</td>\n",
       "      <td>0.000101</td>\n",
       "      <td>0.001009</td>\n",
       "      <td>bonf</td>\n",
       "      <td>214.736</td>\n",
       "      <td>1.345996</td>\n",
       "    </tr>\n",
       "    <tr>\n",
       "      <th>2</th>\n",
       "      <td>Country</td>\n",
       "      <td>ENG</td>\n",
       "      <td>GER</td>\n",
       "      <td>False</td>\n",
       "      <td>True</td>\n",
       "      <td>4.548311</td>\n",
       "      <td>30.491360</td>\n",
       "      <td>two-sided</td>\n",
       "      <td>0.000081</td>\n",
       "      <td>0.000806</td>\n",
       "      <td>bonf</td>\n",
       "      <td>337.737</td>\n",
       "      <td>1.406648</td>\n",
       "    </tr>\n",
       "    <tr>\n",
       "      <th>3</th>\n",
       "      <td>Country</td>\n",
       "      <td>ENG</td>\n",
       "      <td>ITA</td>\n",
       "      <td>False</td>\n",
       "      <td>True</td>\n",
       "      <td>5.095117</td>\n",
       "      <td>38.000000</td>\n",
       "      <td>two-sided</td>\n",
       "      <td>0.000010</td>\n",
       "      <td>0.000099</td>\n",
       "      <td>bonf</td>\n",
       "      <td>1627.928</td>\n",
       "      <td>1.579207</td>\n",
       "    </tr>\n",
       "    <tr>\n",
       "      <th>4</th>\n",
       "      <td>Country</td>\n",
       "      <td>ESP</td>\n",
       "      <td>FRA</td>\n",
       "      <td>False</td>\n",
       "      <td>True</td>\n",
       "      <td>0.633980</td>\n",
       "      <td>38.000000</td>\n",
       "      <td>two-sided</td>\n",
       "      <td>0.529892</td>\n",
       "      <td>1.000000</td>\n",
       "      <td>bonf</td>\n",
       "      <td>0.362</td>\n",
       "      <td>0.196499</td>\n",
       "    </tr>\n",
       "    <tr>\n",
       "      <th>5</th>\n",
       "      <td>Country</td>\n",
       "      <td>ESP</td>\n",
       "      <td>GER</td>\n",
       "      <td>False</td>\n",
       "      <td>True</td>\n",
       "      <td>0.509395</td>\n",
       "      <td>32.392753</td>\n",
       "      <td>two-sided</td>\n",
       "      <td>0.613928</td>\n",
       "      <td>1.000000</td>\n",
       "      <td>bonf</td>\n",
       "      <td>0.349</td>\n",
       "      <td>0.158282</td>\n",
       "    </tr>\n",
       "    <tr>\n",
       "      <th>6</th>\n",
       "      <td>Country</td>\n",
       "      <td>ESP</td>\n",
       "      <td>ITA</td>\n",
       "      <td>False</td>\n",
       "      <td>True</td>\n",
       "      <td>1.425441</td>\n",
       "      <td>38.000000</td>\n",
       "      <td>two-sided</td>\n",
       "      <td>0.162193</td>\n",
       "      <td>1.000000</td>\n",
       "      <td>bonf</td>\n",
       "      <td>0.686</td>\n",
       "      <td>0.441809</td>\n",
       "    </tr>\n",
       "    <tr>\n",
       "      <th>7</th>\n",
       "      <td>Country</td>\n",
       "      <td>FRA</td>\n",
       "      <td>GER</td>\n",
       "      <td>False</td>\n",
       "      <td>True</td>\n",
       "      <td>-0.208364</td>\n",
       "      <td>34.550020</td>\n",
       "      <td>two-sided</td>\n",
       "      <td>0.836168</td>\n",
       "      <td>1.000000</td>\n",
       "      <td>bonf</td>\n",
       "      <td>0.321</td>\n",
       "      <td>-0.065179</td>\n",
       "    </tr>\n",
       "    <tr>\n",
       "      <th>8</th>\n",
       "      <td>Country</td>\n",
       "      <td>FRA</td>\n",
       "      <td>ITA</td>\n",
       "      <td>False</td>\n",
       "      <td>True</td>\n",
       "      <td>0.852814</td>\n",
       "      <td>38.000000</td>\n",
       "      <td>two-sided</td>\n",
       "      <td>0.399106</td>\n",
       "      <td>1.000000</td>\n",
       "      <td>bonf</td>\n",
       "      <td>0.412</td>\n",
       "      <td>0.264326</td>\n",
       "    </tr>\n",
       "    <tr>\n",
       "      <th>9</th>\n",
       "      <td>Country</td>\n",
       "      <td>GER</td>\n",
       "      <td>ITA</td>\n",
       "      <td>False</td>\n",
       "      <td>True</td>\n",
       "      <td>1.168108</td>\n",
       "      <td>34.668262</td>\n",
       "      <td>two-sided</td>\n",
       "      <td>0.250734</td>\n",
       "      <td>1.000000</td>\n",
       "      <td>bonf</td>\n",
       "      <td>0.538</td>\n",
       "      <td>0.365571</td>\n",
       "    </tr>\n",
       "  </tbody>\n",
       "</table>\n",
       "</div>"
      ],
      "text/plain": [
       "  Contrast    A    B  Paired  Parametric         T        dof alternative  \\\n",
       "0  Country  ENG  ESP   False        True  3.535472  38.000000   two-sided   \n",
       "1  Country  ENG  FRA   False        True  4.342692  38.000000   two-sided   \n",
       "2  Country  ENG  GER   False        True  4.548311  30.491360   two-sided   \n",
       "3  Country  ENG  ITA   False        True  5.095117  38.000000   two-sided   \n",
       "4  Country  ESP  FRA   False        True  0.633980  38.000000   two-sided   \n",
       "5  Country  ESP  GER   False        True  0.509395  32.392753   two-sided   \n",
       "6  Country  ESP  ITA   False        True  1.425441  38.000000   two-sided   \n",
       "7  Country  FRA  GER   False        True -0.208364  34.550020   two-sided   \n",
       "8  Country  FRA  ITA   False        True  0.852814  38.000000   two-sided   \n",
       "9  Country  GER  ITA   False        True  1.168108  34.668262   two-sided   \n",
       "\n",
       "      p-unc    p-corr p-adjust      BF10    hedges  \n",
       "0  0.001090  0.010898     bonf    29.042  1.095802  \n",
       "1  0.000101  0.001009     bonf   214.736  1.345996  \n",
       "2  0.000081  0.000806     bonf   337.737  1.406648  \n",
       "3  0.000010  0.000099     bonf  1627.928  1.579207  \n",
       "4  0.529892  1.000000     bonf     0.362  0.196499  \n",
       "5  0.613928  1.000000     bonf     0.349  0.158282  \n",
       "6  0.162193  1.000000     bonf     0.686  0.441809  \n",
       "7  0.836168  1.000000     bonf     0.321 -0.065179  \n",
       "8  0.399106  1.000000     bonf     0.412  0.264326  \n",
       "9  0.250734  1.000000     bonf     0.538  0.365571  "
      ]
     },
     "execution_count": 144,
     "metadata": {},
     "output_type": "execute_result"
    }
   ],
   "source": [
    "#correr pairwise_test de pingouin con la corrección de Bonferroni\n",
    "\n",
    "pg.pairwise_tests(data=df, \n",
    "     dv=\"Attendance\", \n",
    "     between=\"Country\",\n",
    "     padjust=\"bonf\")"
   ]
  },
  {
   "cell_type": "markdown",
   "id": "d16640c8",
   "metadata": {},
   "source": [
    "En la columna p-corr podemos observar que en las primeras cuatro filas (aquellas que tienen en su grupo a ENG) aun tenemos un pvalue que nos permite rechazar la hipótesis nula. Sin embargo, la correción de Bonferroni puede ser bastante conservadora así que utilizaremos stats para correr la corrección de Tukey que es menos conservadora. Además graficaremos el test para observar los intervalos de confianza"
   ]
  },
  {
   "cell_type": "code",
   "execution_count": 146,
   "id": "47c0e6f9",
   "metadata": {},
   "outputs": [
    {
     "data": {
      "text/html": [
       "<table class=\"simpletable\">\n",
       "<caption>Multiple Comparison of Means - Tukey HSD, FWER=0.05</caption>\n",
       "<tr>\n",
       "  <th>group1</th> <th>group2</th>  <th>meandiff</th>    <th>p-adj</th>    <th>lower</th>       <th>upper</th>    <th>reject</th>\n",
       "</tr>\n",
       "<tr>\n",
       "    <td>ENG</td>    <td>ESP</td>   <td>-16601.1</td>   <td>0.0008</td> <td>-27855.8926</td> <td>-5346.3074</td>   <td>True</td> \n",
       "</tr>\n",
       "<tr>\n",
       "    <td>ENG</td>    <td>FRA</td>   <td>-19224.7</td>   <td>0.0001</td> <td>-30479.4926</td> <td>-7969.9074</td>   <td>True</td> \n",
       "</tr>\n",
       "<tr>\n",
       "    <td>ENG</td>    <td>GER</td>  <td>-18513.6444</td> <td>0.0002</td> <td>-30076.8447</td> <td>-6950.4442</td>   <td>True</td> \n",
       "</tr>\n",
       "<tr>\n",
       "    <td>ENG</td>    <td>ITA</td>   <td>-22476.25</td>    <td>0.0</td>  <td>-33731.0426</td> <td>-11221.4574</td>  <td>True</td> \n",
       "</tr>\n",
       "<tr>\n",
       "    <td>ESP</td>    <td>FRA</td>    <td>-2623.6</td>   <td>0.9665</td> <td>-13878.3926</td>  <td>8631.1926</td>   <td>False</td>\n",
       "</tr>\n",
       "<tr>\n",
       "    <td>ESP</td>    <td>GER</td>  <td>-1912.5444</td>  <td>0.9906</td> <td>-13475.7447</td>  <td>9650.6558</td>   <td>False</td>\n",
       "</tr>\n",
       "<tr>\n",
       "    <td>ESP</td>    <td>ITA</td>   <td>-5875.15</td>   <td>0.5958</td> <td>-17129.9426</td>  <td>5379.6426</td>   <td>False</td>\n",
       "</tr>\n",
       "<tr>\n",
       "    <td>FRA</td>    <td>GER</td>   <td>711.0556</td>   <td>0.9998</td> <td>-10852.1447</td> <td>12274.2558</td>   <td>False</td>\n",
       "</tr>\n",
       "<tr>\n",
       "    <td>FRA</td>    <td>ITA</td>   <td>-3251.55</td>   <td>0.9289</td> <td>-14506.3426</td>  <td>8003.2426</td>   <td>False</td>\n",
       "</tr>\n",
       "<tr>\n",
       "    <td>GER</td>    <td>ITA</td>  <td>-3962.6056</td>   <td>0.875</td> <td>-15525.8058</td>  <td>7600.5947</td>   <td>False</td>\n",
       "</tr>\n",
       "</table>"
      ],
      "text/latex": [
       "\\begin{center}\n",
       "\\begin{tabular}{ccccccc}\n",
       "\\toprule\n",
       "\\textbf{group1} & \\textbf{group2} & \\textbf{meandiff} & \\textbf{p-adj} & \\textbf{lower} & \\textbf{upper} & \\textbf{reject}  \\\\\n",
       "\\midrule\n",
       "      ENG       &       ESP       &      -16601.1     &     0.0008     &  -27855.8926   &   -5346.3074   &       True       \\\\\n",
       "      ENG       &       FRA       &      -19224.7     &     0.0001     &  -30479.4926   &   -7969.9074   &       True       \\\\\n",
       "      ENG       &       GER       &    -18513.6444    &     0.0002     &  -30076.8447   &   -6950.4442   &       True       \\\\\n",
       "      ENG       &       ITA       &     -22476.25     &      0.0       &  -33731.0426   &  -11221.4574   &       True       \\\\\n",
       "      ESP       &       FRA       &      -2623.6      &     0.9665     &  -13878.3926   &   8631.1926    &      False       \\\\\n",
       "      ESP       &       GER       &     -1912.5444    &     0.9906     &  -13475.7447   &   9650.6558    &      False       \\\\\n",
       "      ESP       &       ITA       &      -5875.15     &     0.5958     &  -17129.9426   &   5379.6426    &      False       \\\\\n",
       "      FRA       &       GER       &      711.0556     &     0.9998     &  -10852.1447   &   12274.2558   &      False       \\\\\n",
       "      FRA       &       ITA       &      -3251.55     &     0.9289     &  -14506.3426   &   8003.2426    &      False       \\\\\n",
       "      GER       &       ITA       &     -3962.6056    &     0.875      &  -15525.8058   &   7600.5947    &      False       \\\\\n",
       "\\bottomrule\n",
       "\\end{tabular}\n",
       "%\\caption{Multiple Comparison of Means - Tukey HSD, FWER=0.05}\n",
       "\\end{center}"
      ],
      "text/plain": [
       "<class 'statsmodels.iolib.table.SimpleTable'>"
      ]
     },
     "execution_count": 146,
     "metadata": {},
     "output_type": "execute_result"
    },
    {
     "data": {
      "image/png": "[encoded data removed]",
      "text/plain": [
       "<Figure size 1000x600 with 1 Axes>"
      ]
     },
     "metadata": {},
     "output_type": "display_data"
    }
   ],
   "source": [
    "from statsmodels.stats.multicomp import pairwise_tukeyhsd\n",
    "\n",
    "tukey = pairwise_tukeyhsd(endog=df[\"Attendance\"],     \n",
    "                          groups=df[\"Country\"],   \n",
    "                          alpha=0.05)          \n",
    "\n",
    "#Graficamos los intervalos de confianza\n",
    "tukey.plot_simultaneous()    \n",
    "plt.vlines(x=49.57,ymin=-0.5,ymax=4.5, color=\"red\")\n",
    "\n",
    "tukey.summary() "
   ]
  },
  {
   "cell_type": "markdown",
   "id": "979f2d18",
   "metadata": {},
   "source": [
    "Finalmente, con la correción de Tukey podemos comprobar que realmente si existe una diferencia significativa entre la media de asistencia a los estadios de la liga de Inglaterra y las medias de asistencia de las otras ligas de europa. Además, con dicha correción evitamos caer en falsos positivos. "
   ]
  }
 ],
 "metadata": {
  "kernelspec": {
   "display_name": "Python 3 (ipykernel)",
   "language": "python",
   "name": "python3"
  },
  "language_info": {
   "codemirror_mode": {
    "name": "ipython",
    "version": 3
   },
   "file_extension": ".py",
   "mimetype": "text/x-python",
   "name": "python",
   "nbconvert_exporter": "python",
   "pygments_lexer": "ipython3",
   "version": "3.11.5"
  }
 },
 "nbformat": 4,
 "nbformat_minor": 5
}
